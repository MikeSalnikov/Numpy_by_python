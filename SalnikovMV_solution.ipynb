{
  "cells": [
    {
      "cell_type": "markdown",
      "metadata": {
        "id": "view-in-github",
        "colab_type": "text"
      },
      "source": [
        "<a href=\"https://colab.research.google.com/github/MikeSalnikov/Numpy_by_python/blob/main/SalnikovMV_solution.ipynb\" target=\"_parent\"><img src=\"https://colab.research.google.com/assets/colab-badge.svg\" alt=\"Open In Colab\"/></a>"
      ]
    },
    {
      "cell_type": "markdown",
      "metadata": {
        "id": "-lUdKdumQaWn"
      },
      "source": [
        "* [Подготовка](#prepare)\n",
        "    * [Загрузка данных](#load_data)\n",
        "    * [Вспомогательные функции](#helper_functions)\n",
        "    * [Описание датасета](#data_description)\n",
        "* [1. Обзор обучающего датасета](#data_view)\n",
        "* [2. Обработка выбросов](#data_fix)\n",
        "* [3. Обработка пропусков](#fix_pass)\n",
        "* [4. Анализ данных](#data_analysis)\n",
        "* [5. Отбор признаков](#select_features)\n",
        "* [6. Балансировка классов](#target_balancing)\n",
        "* [7. Подбор моделей, получение бейзлана](#select_model)\n",
        "* [8. Выбор наилучшей модели, настройка гиперпараметров](#get_best_model)\n",
        "* [9. Проверка качества, борьба с переобучением](#check_model)\n"
      ]
    },
    {
      "cell_type": "markdown",
      "metadata": {
        "id": "kRuAKIzcQaWp"
      },
      "source": [
        "### Подготовка<a class=\"anchor\" id=\"prepare\"></a>"
      ]
    },
    {
      "cell_type": "code",
      "source": [
        "pip install catboost\n"
      ],
      "metadata": {
        "colab": {
          "base_uri": "https://localhost:8080/"
        },
        "id": "eH1IjSidTQOF",
        "outputId": "ce787de4-4fe3-4c02-bb3e-2dea94cc90cb"
      },
      "execution_count": 2,
      "outputs": [
        {
          "output_type": "stream",
          "name": "stdout",
          "text": [
            "Collecting catboost\n",
            "  Downloading catboost-1.0.5-cp37-none-manylinux1_x86_64.whl (76.6 MB)\n",
            "\u001b[K     |████████████████████████████████| 76.6 MB 1.1 MB/s \n",
            "\u001b[?25hRequirement already satisfied: plotly in /usr/local/lib/python3.7/dist-packages (from catboost) (5.5.0)\n",
            "Requirement already satisfied: scipy in /usr/local/lib/python3.7/dist-packages (from catboost) (1.4.1)\n",
            "Requirement already satisfied: numpy>=1.16.0 in /usr/local/lib/python3.7/dist-packages (from catboost) (1.21.5)\n",
            "Requirement already satisfied: pandas>=0.24.0 in /usr/local/lib/python3.7/dist-packages (from catboost) (1.3.5)\n",
            "Requirement already satisfied: matplotlib in /usr/local/lib/python3.7/dist-packages (from catboost) (3.2.2)\n",
            "Requirement already satisfied: graphviz in /usr/local/lib/python3.7/dist-packages (from catboost) (0.10.1)\n",
            "Requirement already satisfied: six in /usr/local/lib/python3.7/dist-packages (from catboost) (1.15.0)\n",
            "Requirement already satisfied: pytz>=2017.3 in /usr/local/lib/python3.7/dist-packages (from pandas>=0.24.0->catboost) (2018.9)\n",
            "Requirement already satisfied: python-dateutil>=2.7.3 in /usr/local/lib/python3.7/dist-packages (from pandas>=0.24.0->catboost) (2.8.2)\n",
            "Requirement already satisfied: kiwisolver>=1.0.1 in /usr/local/lib/python3.7/dist-packages (from matplotlib->catboost) (1.4.2)\n",
            "Requirement already satisfied: pyparsing!=2.0.4,!=2.1.2,!=2.1.6,>=2.0.1 in /usr/local/lib/python3.7/dist-packages (from matplotlib->catboost) (3.0.8)\n",
            "Requirement already satisfied: cycler>=0.10 in /usr/local/lib/python3.7/dist-packages (from matplotlib->catboost) (0.11.0)\n",
            "Requirement already satisfied: typing-extensions in /usr/local/lib/python3.7/dist-packages (from kiwisolver>=1.0.1->matplotlib->catboost) (4.1.1)\n",
            "Requirement already satisfied: tenacity>=6.2.0 in /usr/local/lib/python3.7/dist-packages (from plotly->catboost) (8.0.1)\n",
            "Installing collected packages: catboost\n",
            "Successfully installed catboost-1.0.5\n"
          ]
        }
      ]
    },
    {
      "cell_type": "code",
      "source": [
        "!apt-get install libmagic-dev\n",
        "!pip install python-magic"
      ],
      "metadata": {
        "colab": {
          "base_uri": "https://localhost:8080/"
        },
        "id": "XoDrQj7TR2KL",
        "outputId": "54df2394-17ff-4124-d4cc-ec5d4edf431a"
      },
      "execution_count": 3,
      "outputs": [
        {
          "output_type": "stream",
          "name": "stdout",
          "text": [
            "Reading package lists... Done\n",
            "Building dependency tree       \n",
            "Reading state information... Done\n",
            "The following additional packages will be installed:\n",
            "  libmagic-mgc libmagic1\n",
            "Suggested packages:\n",
            "  file\n",
            "The following NEW packages will be installed:\n",
            "  libmagic-dev libmagic-mgc libmagic1\n",
            "0 upgraded, 3 newly installed, 0 to remove and 39 not upgraded.\n",
            "Need to get 332 kB of archives.\n",
            "After this operation, 5,552 kB of additional disk space will be used.\n",
            "Get:1 http://archive.ubuntu.com/ubuntu bionic-updates/main amd64 libmagic-mgc amd64 1:5.32-2ubuntu0.4 [184 kB]\n",
            "Get:2 http://archive.ubuntu.com/ubuntu bionic-updates/main amd64 libmagic1 amd64 1:5.32-2ubuntu0.4 [68.6 kB]\n",
            "Get:3 http://archive.ubuntu.com/ubuntu bionic-updates/main amd64 libmagic-dev amd64 1:5.32-2ubuntu0.4 [79.7 kB]\n",
            "Fetched 332 kB in 2s (194 kB/s)\n",
            "Selecting previously unselected package libmagic-mgc.\n",
            "(Reading database ... 155455 files and directories currently installed.)\n",
            "Preparing to unpack .../libmagic-mgc_1%3a5.32-2ubuntu0.4_amd64.deb ...\n",
            "Unpacking libmagic-mgc (1:5.32-2ubuntu0.4) ...\n",
            "Selecting previously unselected package libmagic1:amd64.\n",
            "Preparing to unpack .../libmagic1_1%3a5.32-2ubuntu0.4_amd64.deb ...\n",
            "Unpacking libmagic1:amd64 (1:5.32-2ubuntu0.4) ...\n",
            "Selecting previously unselected package libmagic-dev:amd64.\n",
            "Preparing to unpack .../libmagic-dev_1%3a5.32-2ubuntu0.4_amd64.deb ...\n",
            "Unpacking libmagic-dev:amd64 (1:5.32-2ubuntu0.4) ...\n",
            "Setting up libmagic-mgc (1:5.32-2ubuntu0.4) ...\n",
            "Setting up libmagic1:amd64 (1:5.32-2ubuntu0.4) ...\n",
            "Setting up libmagic-dev:amd64 (1:5.32-2ubuntu0.4) ...\n",
            "Processing triggers for man-db (2.8.3-2ubuntu0.1) ...\n",
            "Processing triggers for libc-bin (2.27-3ubuntu1.3) ...\n",
            "/sbin/ldconfig.real: /usr/local/lib/python3.7/dist-packages/ideep4py/lib/libmkldnn.so.0 is not a symbolic link\n",
            "\n",
            "Collecting python-magic\n",
            "  Downloading python_magic-0.4.25-py2.py3-none-any.whl (13 kB)\n",
            "Installing collected packages: python-magic\n",
            "Successfully installed python-magic-0.4.25\n"
          ]
        }
      ]
    },
    {
      "cell_type": "code",
      "execution_count": null,
      "metadata": {
        "id": "IkUiaRvUQaWq"
      },
      "outputs": [],
      "source": [
        "import pandas as pd\n",
        "import numpy as np\n",
        "import matplotlib\n",
        "import matplotlib.pyplot as plt\n",
        "from sklearn.preprocessing import StandardScaler, MinMaxScaler\n",
        "from sklearn.model_selection import train_test_split,RandomizedSearchCV\n",
        "from sklearn.ensemble import RandomForestClassifier\n",
        "from sklearn.metrics import classification_report, f1_score, precision_score, recall_score\n",
        "from sklearn.model_selection import KFold, GridSearchCV, RandomizedSearchCV\n",
        "from sklearn.neighbors import KNeighborsClassifier\n",
        "from sklearn.linear_model import LogisticRegression\n",
        "import xgboost as xgb\n",
        "import lightgbm as lgbm\n",
        "import catboost as catb\n",
        "from scipy.stats import shapiro\n",
        "from scipy.stats import probplot\n",
        "from scipy.stats import ttest_ind, mannwhitneyu\n",
        "from scipy.stats import chi2_contingency\n",
        "from statsmodels.stats.weightstats import zconfint\n",
        "from itertools import permutations, combinations\n",
        "import seaborn as sns\n",
        "import warnings\n",
        "warnings.filterwarnings('ignore')\n",
        "%matplotlib inline"
      ]
    },
    {
      "cell_type": "code",
      "execution_count": null,
      "metadata": {
        "id": "7s6d89uCQaWr"
      },
      "outputs": [],
      "source": [
        "matplotlib.rcParams.update({'font.size' : 14})"
      ]
    },
    {
      "cell_type": "markdown",
      "metadata": {
        "id": "wN7IUmCDQaWr"
      },
      "source": [
        "#### Загурзка данных<a class=\"anchor\" id=\"load_data\"></a>"
      ]
    },
    {
      "cell_type": "code",
      "source": [
        "from google.colab import drive\n",
        "drive.mount('/content/drive')"
      ],
      "metadata": {
        "colab": {
          "base_uri": "https://localhost:8080/"
        },
        "id": "2Yr7_PAKXmpH",
        "outputId": "ee71463f-6417-4b71-9427-d304fbc8e6c4"
      },
      "execution_count": 5,
      "outputs": [
        {
          "output_type": "stream",
          "name": "stdout",
          "text": [
            "Mounted at /content/drive\n"
          ]
        }
      ]
    },
    {
      "cell_type": "code",
      "source": [
        "from google.colab import files\n",
        "uploaded = files.upload()"
      ],
      "metadata": {
        "colab": {
          "resources": {
            "http://localhost:8080/nbextensions/google.colab/files.js": {
              "data": "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",
              "ok": true,
              "headers": [
                [
                  "content-type",
                  "application/javascript"
                ]
              ],
              "status": 200,
              "status_text": ""
            }
          },
          "base_uri": "https://localhost:8080/",
          "height": 73
        },
        "id": "rbuipq3iX7eW",
        "outputId": "d31024f3-3b8e-475f-f137-cb59ff058005"
      },
      "execution_count": 7,
      "outputs": [
        {
          "output_type": "display_data",
          "data": {
            "text/plain": [
              "<IPython.core.display.HTML object>"
            ],
            "text/html": [
              "\n",
              "     <input type=\"file\" id=\"files-58a9e009-5fe4-4c52-804a-56b1b2cdfb0b\" name=\"files[]\" multiple disabled\n",
              "        style=\"border:none\" />\n",
              "     <output id=\"result-58a9e009-5fe4-4c52-804a-56b1b2cdfb0b\">\n",
              "      Upload widget is only available when the cell has been executed in the\n",
              "      current browser session. Please rerun this cell to enable.\n",
              "      </output>\n",
              "      <script src=\"/nbextensions/google.colab/files.js\"></script> "
            ]
          },
          "metadata": {}
        },
        {
          "output_type": "stream",
          "name": "stdout",
          "text": [
            "Saving course_project_train.csv to course_project_train.csv\n"
          ]
        }
      ]
    },
    {
      "cell_type": "code",
      "execution_count": 9,
      "metadata": {
        "id": "nBcHYunpQaWr"
      },
      "outputs": [],
      "source": [
        "data_train = pd.read_csv('course_project_train.csv')\n",
        "data_test = pd.read_csv('course_project_test.csv')"
      ]
    },
    {
      "cell_type": "markdown",
      "metadata": {
        "id": "Gk90vbcNQaWs"
      },
      "source": [
        "#### Вспомогательные функции<a class=\"anchor\" id=\"helper_functions\"></a>"
      ]
    },
    {
      "cell_type": "code",
      "execution_count": 10,
      "metadata": {
        "id": "WQT1BZTgQaWs"
      },
      "outputs": [],
      "source": [
        "#Оценивать выбросы, смотреть пропуски, строить распределение и т.д. лучше на всем наборе данных\n",
        "#Эта функция, объединяет данные из тестового и тренировочного наборов\n",
        "def build_all_data(): \n",
        "    return data_train.drop(columns=['Credit Default']).append(data_test)"
      ]
    },
    {
      "cell_type": "code",
      "execution_count": 11,
      "metadata": {
        "id": "crO94D0fQaWt"
      },
      "outputs": [],
      "source": [
        "#Функция показывает как распределяется выбранный признак, а так же где на полученном графике: мода, медиана и среднее\n",
        "def ShowDistribution(X, column, roundcoef=1, linespase_begin=5e-6, linespase_end=100):\n",
        "    target_mean = round(X[column].mean(), 2)\n",
        "    target_median = X[column].median()\n",
        "    target_mode = round(X[column] / roundcoef).mode()[0]*roundcoef \n",
        "    plt.figure(figsize = (16, 8))\n",
        "\n",
        "    sns.distplot(X[column])\n",
        "    y = np.linspace(0, linespase_begin, linespase_end)\n",
        "    plt.plot([target_mean] * 100, y, label='mean', linestyle=':', linewidth=4)\n",
        "    plt.plot([target_median] * 100, y, label='median', linestyle='--', linewidth=4)\n",
        "    plt.plot([target_mode] * 100, y, label='mode', linestyle='-.', linewidth=4)\n",
        "\n",
        "    plt.title('Distribution of ' + column)\n",
        "    plt.legend()\n",
        "    plt.show()"
      ]
    },
    {
      "cell_type": "code",
      "execution_count": 12,
      "metadata": {
        "id": "fAl3A7QjQaWu"
      },
      "outputs": [],
      "source": [
        "#Для выбранного признака показывает, boxplot и описание\n",
        "def present_feature(data, feature):\n",
        "    print(data[feature].describe())\n",
        "    sns.boxplot(data[feature])"
      ]
    },
    {
      "cell_type": "code",
      "execution_count": 13,
      "metadata": {
        "id": "qXiXxQwzQaWv"
      },
      "outputs": [],
      "source": [
        "#Для выбранного категориального признака показывает, описание и количество строк для каждого из значений признака\n",
        "def present_categorical_feature(data, feature):\n",
        "    print(data[feature].describe())\n",
        "    print('--'*10)\n",
        "    print(pd.get_dummies(all_data[feature]).sum())"
      ]
    },
    {
      "cell_type": "code",
      "execution_count": 14,
      "metadata": {
        "id": "LZex4kqgQaWv"
      },
      "outputs": [],
      "source": [
        "#Из выбранного категориального признака строит dummy признаки\n",
        "def make_dummy(data, feature):\n",
        "    df = pd.get_dummies(data,prefix=None,columns=[feature], drop_first=True)\n",
        "    for dummy_feature in df:\n",
        "        data[dummy_feature] = df[dummy_feature]\n",
        "    data.drop(columns=[feature], inplace=True)   "
      ]
    },
    {
      "cell_type": "code",
      "execution_count": 15,
      "metadata": {
        "id": "6GqicZ6AQaWv"
      },
      "outputs": [],
      "source": [
        "def cat_text_to_number(all_data, data, feature):\n",
        "    values = pd.get_dummies(all_data[feature]).columns.tolist()\n",
        "    data[feature] = data[feature].map(lambda x: values.index(x))"
      ]
    },
    {
      "cell_type": "code",
      "execution_count": 16,
      "metadata": {
        "id": "B3yW2FvqQaWw"
      },
      "outputs": [],
      "source": [
        "#Расчитывает Хи-квадрат Пирсона для пары значений\n",
        "def test_feature(data, feature, values, target):\n",
        "    feature_and_target = data.loc[data[feature].isin(values), ['ID',feature, target]]\n",
        "    table = feature_and_target.pivot_table(values='ID', index=feature, columns=target, aggfunc='count')\n",
        "    chi2, p, dof, expected = chi2_contingency(table, correction=False)\n",
        "    return p"
      ]
    },
    {
      "cell_type": "code",
      "execution_count": 17,
      "metadata": {
        "id": "ms6BCHJBQaWw"
      },
      "outputs": [],
      "source": [
        "def get_classification_report(y_train_true, y_train_pred, y_test_true, y_test_pred):\n",
        "    print('TRAIN\\n\\n' + classification_report(y_train_true, y_train_pred))\n",
        "    print('TEST\\n\\n' + classification_report(y_test_true, y_test_pred, digits=4))\n",
        "    print('CONFUSION MATRIX\\n')\n",
        "    print(pd.crosstab(y_test_true, y_test_pred))"
      ]
    },
    {
      "cell_type": "code",
      "execution_count": 18,
      "metadata": {
        "id": "b-kREoqkQaWw"
      },
      "outputs": [],
      "source": [
        "def balance_df_by_target(df, target_name):\n",
        "    target_counts = df[target_name].value_counts()\n",
        "    major_class_name = target_counts.argmax()\n",
        "    minor_class_name = target_counts.argmin()\n",
        "    disbalance_coeff = int(target_counts[major_class_name] / target_counts[minor_class_name]) - 1\n",
        "    for i in range(disbalance_coeff):\n",
        "        sample = df[df[target_name] == minor_class_name].sample(target_counts[minor_class_name])\n",
        "        df = df.append(sample, ignore_index=True)\n",
        "\n",
        "    return df.sample(frac=1) "
      ]
    },
    {
      "cell_type": "code",
      "execution_count": 19,
      "metadata": {
        "id": "x7IsZ7D3QaWx"
      },
      "outputs": [],
      "source": [
        "def CreatePriceFeature(df, columns, target,featurename):\n",
        "    return df.groupby(columns)[[target]]\\\n",
        "                    .mean().reset_index()\\\n",
        "                    .rename(columns={target:featurename})\n",
        "\n",
        "def MergePriceFeature(df, columns, featurename, feature):\n",
        "    df = pd.merge(df, feature, on=columns, how='left')\n",
        "    df.loc[df[featurename].isnull(), featurename]\\\n",
        "        = df[featurename].mode()    \n",
        "    return df   \n",
        "\n",
        "def ExpandDataOnPriceFeature(df, df_test, columns,target, featurename):\n",
        "    feature = CreatePriceFeature(df,columns, target, featurename)\n",
        "    df =  MergePriceFeature(df, columns, featurename, feature)\n",
        "    df_test =  MergePriceFeature(df_test, columns, featurename, feature)\n",
        "    return (df, df_test)"
      ]
    },
    {
      "cell_type": "markdown",
      "metadata": {
        "id": "HYqRw-vwQaWx"
      },
      "source": [
        "**Описание датасета**<a class=\"anchor\" id=\"data_description\"></a>\n",
        "\n",
        "* **Home Ownership** - домовладение\n",
        "* **Annual Income** - годовой доход\n",
        "* **Years in current job** - количество лет на текущем месте работы\n",
        "* **Tax Liens** - налоговые обременения\n",
        "* **Number of Open Accounts** - количество открытых счетов\n",
        "* **Years of Credit History** - количество лет кредитной истории\n",
        "* **Maximum Open Credit** - наибольший открытый кредит\n",
        "* **Number of Credit Problems** - количество проблем с кредитом\n",
        "* **Months since last delinquent** - количество месяцев с последней просрочки платежа\n",
        "* **Bankruptcies** - банкротства\n",
        "* **Purpose** - цель кредита\n",
        "* **Term** - срок кредита\n",
        "* **Current Loan Amount** - текущая сумма кредита\n",
        "* **Current Credit Balance** - текущий кредитный баланс\n",
        "* **Monthly Debt** - ежемесячный долг\n",
        "* **Credit Default** - факт невыполнения кредитных обязательств (0 - погашен вовремя, 1 - просрочка)"
      ]
    },
    {
      "cell_type": "code",
      "execution_count": 20,
      "metadata": {
        "id": "tOiryFwWQaWx"
      },
      "outputs": [],
      "source": [
        "CAT_FEATURES = []\n",
        "TARGET_NAME = 'Credit Default'\n"
      ]
    },
    {
      "cell_type": "code",
      "execution_count": 21,
      "metadata": {
        "id": "mxLkWqbaQaWy"
      },
      "outputs": [],
      "source": [
        "HELPER_FEATURE = 'exactly delay' \n",
        "\n",
        "#Пока обрабатываем выбросы и заполняем пробелы, на графиках увидим много закономерностей с целевой перемнной.\n",
        "#Этим закономерности будут постепенно вынесны в отдельный признак.\n",
        "#Предположение, что это даст значительный прирост в качесве.\n"
      ]
    },
    {
      "cell_type": "code",
      "execution_count": 22,
      "metadata": {
        "id": "FQIkFNcxQaWy"
      },
      "outputs": [],
      "source": [
        "CAT_FEATURES.append(HELPER_FEATURE)"
      ]
    },
    {
      "cell_type": "markdown",
      "metadata": {
        "id": "I8oTl3yRQaWy"
      },
      "source": [
        "__1. Обзор обучающего датасета__<a class=\"anchor\" id=\"data_view\"></a>"
      ]
    },
    {
      "cell_type": "code",
      "execution_count": 23,
      "metadata": {
        "id": "KVGAwW4PQaWy",
        "outputId": "6126b96a-ea65-4228-837d-939825ab7e97",
        "colab": {
          "base_uri": "https://localhost:8080/"
        }
      },
      "outputs": [
        {
          "output_type": "stream",
          "name": "stdout",
          "text": [
            "<class 'pandas.core.frame.DataFrame'>\n",
            "RangeIndex: 7500 entries, 0 to 7499\n",
            "Data columns (total 17 columns):\n",
            " #   Column                        Non-Null Count  Dtype  \n",
            "---  ------                        --------------  -----  \n",
            " 0   Home Ownership                7500 non-null   object \n",
            " 1   Annual Income                 5943 non-null   float64\n",
            " 2   Years in current job          7129 non-null   object \n",
            " 3   Tax Liens                     7500 non-null   float64\n",
            " 4   Number of Open Accounts       7500 non-null   float64\n",
            " 5   Years of Credit History       7500 non-null   float64\n",
            " 6   Maximum Open Credit           7500 non-null   float64\n",
            " 7   Number of Credit Problems     7500 non-null   float64\n",
            " 8   Months since last delinquent  3419 non-null   float64\n",
            " 9   Bankruptcies                  7486 non-null   float64\n",
            " 10  Purpose                       7500 non-null   object \n",
            " 11  Term                          7500 non-null   object \n",
            " 12  Current Loan Amount           7500 non-null   float64\n",
            " 13  Current Credit Balance        7500 non-null   float64\n",
            " 14  Monthly Debt                  7500 non-null   float64\n",
            " 15  Credit Score                  5943 non-null   float64\n",
            " 16  Credit Default                7500 non-null   int64  \n",
            "dtypes: float64(12), int64(1), object(4)\n",
            "memory usage: 996.2+ KB\n"
          ]
        }
      ],
      "source": [
        "data_train.info()"
      ]
    },
    {
      "cell_type": "code",
      "execution_count": 24,
      "metadata": {
        "id": "iRZhhMXXQaWz",
        "outputId": "036af356-56eb-4d59-beba-3c3ca380d764",
        "colab": {
          "base_uri": "https://localhost:8080/",
          "height": 372
        }
      },
      "outputs": [
        {
          "output_type": "execute_result",
          "data": {
            "text/plain": [
              "  Home Ownership  Annual Income Years in current job  Tax Liens  \\\n",
              "0       Own Home       482087.0                  NaN        0.0   \n",
              "1       Own Home      1025487.0            10+ years        0.0   \n",
              "2  Home Mortgage       751412.0              8 years        0.0   \n",
              "3       Own Home       805068.0              6 years        0.0   \n",
              "4           Rent       776264.0              8 years        0.0   \n",
              "\n",
              "   Number of Open Accounts  Years of Credit History  Maximum Open Credit  \\\n",
              "0                     11.0                     26.3             685960.0   \n",
              "1                     15.0                     15.3            1181730.0   \n",
              "2                     11.0                     35.0            1182434.0   \n",
              "3                      8.0                     22.5             147400.0   \n",
              "4                     13.0                     13.6             385836.0   \n",
              "\n",
              "   Number of Credit Problems  Months since last delinquent  Bankruptcies  \\\n",
              "0                        1.0                           NaN           1.0   \n",
              "1                        0.0                           NaN           0.0   \n",
              "2                        0.0                           NaN           0.0   \n",
              "3                        1.0                           NaN           1.0   \n",
              "4                        1.0                           NaN           0.0   \n",
              "\n",
              "              Purpose        Term  Current Loan Amount  \\\n",
              "0  debt consolidation  Short Term           99999999.0   \n",
              "1  debt consolidation   Long Term             264968.0   \n",
              "2  debt consolidation  Short Term           99999999.0   \n",
              "3  debt consolidation  Short Term             121396.0   \n",
              "4  debt consolidation  Short Term             125840.0   \n",
              "\n",
              "   Current Credit Balance  Monthly Debt  Credit Score  Credit Default  \n",
              "0                 47386.0        7914.0         749.0               0  \n",
              "1                394972.0       18373.0         737.0               1  \n",
              "2                308389.0       13651.0         742.0               0  \n",
              "3                 95855.0       11338.0         694.0               0  \n",
              "4                 93309.0        7180.0         719.0               0  "
            ],
            "text/html": [
              "\n",
              "  <div id=\"df-d7f3a687-9e57-42e8-9a63-f52f600ebca1\">\n",
              "    <div class=\"colab-df-container\">\n",
              "      <div>\n",
              "<style scoped>\n",
              "    .dataframe tbody tr th:only-of-type {\n",
              "        vertical-align: middle;\n",
              "    }\n",
              "\n",
              "    .dataframe tbody tr th {\n",
              "        vertical-align: top;\n",
              "    }\n",
              "\n",
              "    .dataframe thead th {\n",
              "        text-align: right;\n",
              "    }\n",
              "</style>\n",
              "<table border=\"1\" class=\"dataframe\">\n",
              "  <thead>\n",
              "    <tr style=\"text-align: right;\">\n",
              "      <th></th>\n",
              "      <th>Home Ownership</th>\n",
              "      <th>Annual Income</th>\n",
              "      <th>Years in current job</th>\n",
              "      <th>Tax Liens</th>\n",
              "      <th>Number of Open Accounts</th>\n",
              "      <th>Years of Credit History</th>\n",
              "      <th>Maximum Open Credit</th>\n",
              "      <th>Number of Credit Problems</th>\n",
              "      <th>Months since last delinquent</th>\n",
              "      <th>Bankruptcies</th>\n",
              "      <th>Purpose</th>\n",
              "      <th>Term</th>\n",
              "      <th>Current Loan Amount</th>\n",
              "      <th>Current Credit Balance</th>\n",
              "      <th>Monthly Debt</th>\n",
              "      <th>Credit Score</th>\n",
              "      <th>Credit Default</th>\n",
              "    </tr>\n",
              "  </thead>\n",
              "  <tbody>\n",
              "    <tr>\n",
              "      <th>0</th>\n",
              "      <td>Own Home</td>\n",
              "      <td>482087.0</td>\n",
              "      <td>NaN</td>\n",
              "      <td>0.0</td>\n",
              "      <td>11.0</td>\n",
              "      <td>26.3</td>\n",
              "      <td>685960.0</td>\n",
              "      <td>1.0</td>\n",
              "      <td>NaN</td>\n",
              "      <td>1.0</td>\n",
              "      <td>debt consolidation</td>\n",
              "      <td>Short Term</td>\n",
              "      <td>99999999.0</td>\n",
              "      <td>47386.0</td>\n",
              "      <td>7914.0</td>\n",
              "      <td>749.0</td>\n",
              "      <td>0</td>\n",
              "    </tr>\n",
              "    <tr>\n",
              "      <th>1</th>\n",
              "      <td>Own Home</td>\n",
              "      <td>1025487.0</td>\n",
              "      <td>10+ years</td>\n",
              "      <td>0.0</td>\n",
              "      <td>15.0</td>\n",
              "      <td>15.3</td>\n",
              "      <td>1181730.0</td>\n",
              "      <td>0.0</td>\n",
              "      <td>NaN</td>\n",
              "      <td>0.0</td>\n",
              "      <td>debt consolidation</td>\n",
              "      <td>Long Term</td>\n",
              "      <td>264968.0</td>\n",
              "      <td>394972.0</td>\n",
              "      <td>18373.0</td>\n",
              "      <td>737.0</td>\n",
              "      <td>1</td>\n",
              "    </tr>\n",
              "    <tr>\n",
              "      <th>2</th>\n",
              "      <td>Home Mortgage</td>\n",
              "      <td>751412.0</td>\n",
              "      <td>8 years</td>\n",
              "      <td>0.0</td>\n",
              "      <td>11.0</td>\n",
              "      <td>35.0</td>\n",
              "      <td>1182434.0</td>\n",
              "      <td>0.0</td>\n",
              "      <td>NaN</td>\n",
              "      <td>0.0</td>\n",
              "      <td>debt consolidation</td>\n",
              "      <td>Short Term</td>\n",
              "      <td>99999999.0</td>\n",
              "      <td>308389.0</td>\n",
              "      <td>13651.0</td>\n",
              "      <td>742.0</td>\n",
              "      <td>0</td>\n",
              "    </tr>\n",
              "    <tr>\n",
              "      <th>3</th>\n",
              "      <td>Own Home</td>\n",
              "      <td>805068.0</td>\n",
              "      <td>6 years</td>\n",
              "      <td>0.0</td>\n",
              "      <td>8.0</td>\n",
              "      <td>22.5</td>\n",
              "      <td>147400.0</td>\n",
              "      <td>1.0</td>\n",
              "      <td>NaN</td>\n",
              "      <td>1.0</td>\n",
              "      <td>debt consolidation</td>\n",
              "      <td>Short Term</td>\n",
              "      <td>121396.0</td>\n",
              "      <td>95855.0</td>\n",
              "      <td>11338.0</td>\n",
              "      <td>694.0</td>\n",
              "      <td>0</td>\n",
              "    </tr>\n",
              "    <tr>\n",
              "      <th>4</th>\n",
              "      <td>Rent</td>\n",
              "      <td>776264.0</td>\n",
              "      <td>8 years</td>\n",
              "      <td>0.0</td>\n",
              "      <td>13.0</td>\n",
              "      <td>13.6</td>\n",
              "      <td>385836.0</td>\n",
              "      <td>1.0</td>\n",
              "      <td>NaN</td>\n",
              "      <td>0.0</td>\n",
              "      <td>debt consolidation</td>\n",
              "      <td>Short Term</td>\n",
              "      <td>125840.0</td>\n",
              "      <td>93309.0</td>\n",
              "      <td>7180.0</td>\n",
              "      <td>719.0</td>\n",
              "      <td>0</td>\n",
              "    </tr>\n",
              "  </tbody>\n",
              "</table>\n",
              "</div>\n",
              "      <button class=\"colab-df-convert\" onclick=\"convertToInteractive('df-d7f3a687-9e57-42e8-9a63-f52f600ebca1')\"\n",
              "              title=\"Convert this dataframe to an interactive table.\"\n",
              "              style=\"display:none;\">\n",
              "        \n",
              "  <svg xmlns=\"http://www.w3.org/2000/svg\" height=\"24px\"viewBox=\"0 0 24 24\"\n",
              "       width=\"24px\">\n",
              "    <path d=\"M0 0h24v24H0V0z\" fill=\"none\"/>\n",
              "    <path d=\"M18.56 5.44l.94 2.06.94-2.06 2.06-.94-2.06-.94-.94-2.06-.94 2.06-2.06.94zm-11 1L8.5 8.5l.94-2.06 2.06-.94-2.06-.94L8.5 2.5l-.94 2.06-2.06.94zm10 10l.94 2.06.94-2.06 2.06-.94-2.06-.94-.94-2.06-.94 2.06-2.06.94z\"/><path d=\"M17.41 7.96l-1.37-1.37c-.4-.4-.92-.59-1.43-.59-.52 0-1.04.2-1.43.59L10.3 9.45l-7.72 7.72c-.78.78-.78 2.05 0 2.83L4 21.41c.39.39.9.59 1.41.59.51 0 1.02-.2 1.41-.59l7.78-7.78 2.81-2.81c.8-.78.8-2.07 0-2.86zM5.41 20L4 18.59l7.72-7.72 1.47 1.35L5.41 20z\"/>\n",
              "  </svg>\n",
              "      </button>\n",
              "      \n",
              "  <style>\n",
              "    .colab-df-container {\n",
              "      display:flex;\n",
              "      flex-wrap:wrap;\n",
              "      gap: 12px;\n",
              "    }\n",
              "\n",
              "    .colab-df-convert {\n",
              "      background-color: #E8F0FE;\n",
              "      border: none;\n",
              "      border-radius: 50%;\n",
              "      cursor: pointer;\n",
              "      display: none;\n",
              "      fill: #1967D2;\n",
              "      height: 32px;\n",
              "      padding: 0 0 0 0;\n",
              "      width: 32px;\n",
              "    }\n",
              "\n",
              "    .colab-df-convert:hover {\n",
              "      background-color: #E2EBFA;\n",
              "      box-shadow: 0px 1px 2px rgba(60, 64, 67, 0.3), 0px 1px 3px 1px rgba(60, 64, 67, 0.15);\n",
              "      fill: #174EA6;\n",
              "    }\n",
              "\n",
              "    [theme=dark] .colab-df-convert {\n",
              "      background-color: #3B4455;\n",
              "      fill: #D2E3FC;\n",
              "    }\n",
              "\n",
              "    [theme=dark] .colab-df-convert:hover {\n",
              "      background-color: #434B5C;\n",
              "      box-shadow: 0px 1px 3px 1px rgba(0, 0, 0, 0.15);\n",
              "      filter: drop-shadow(0px 1px 2px rgba(0, 0, 0, 0.3));\n",
              "      fill: #FFFFFF;\n",
              "    }\n",
              "  </style>\n",
              "\n",
              "      <script>\n",
              "        const buttonEl =\n",
              "          document.querySelector('#df-d7f3a687-9e57-42e8-9a63-f52f600ebca1 button.colab-df-convert');\n",
              "        buttonEl.style.display =\n",
              "          google.colab.kernel.accessAllowed ? 'block' : 'none';\n",
              "\n",
              "        async function convertToInteractive(key) {\n",
              "          const element = document.querySelector('#df-d7f3a687-9e57-42e8-9a63-f52f600ebca1');\n",
              "          const dataTable =\n",
              "            await google.colab.kernel.invokeFunction('convertToInteractive',\n",
              "                                                     [key], {});\n",
              "          if (!dataTable) return;\n",
              "\n",
              "          const docLinkHtml = 'Like what you see? Visit the ' +\n",
              "            '<a target=\"_blank\" href=https://colab.research.google.com/notebooks/data_table.ipynb>data table notebook</a>'\n",
              "            + ' to learn more about interactive tables.';\n",
              "          element.innerHTML = '';\n",
              "          dataTable['output_type'] = 'display_data';\n",
              "          await google.colab.output.renderOutput(dataTable, element);\n",
              "          const docLink = document.createElement('div');\n",
              "          docLink.innerHTML = docLinkHtml;\n",
              "          element.appendChild(docLink);\n",
              "        }\n",
              "      </script>\n",
              "    </div>\n",
              "  </div>\n",
              "  "
            ]
          },
          "metadata": {},
          "execution_count": 24
        }
      ],
      "source": [
        "data_train.head()"
      ]
    },
    {
      "cell_type": "code",
      "execution_count": 25,
      "metadata": {
        "id": "W3kZwEWFQaWz",
        "outputId": "19fb23d3-aafe-486d-d82c-193e1e350f57",
        "colab": {
          "base_uri": "https://localhost:8080/",
          "height": 362
        }
      },
      "outputs": [
        {
          "output_type": "execute_result",
          "data": {
            "text/plain": [
              "       Annual Income    Tax Liens  Number of Open Accounts  \\\n",
              "count   5.943000e+03  7500.000000              7500.000000   \n",
              "mean    1.366392e+06     0.030133                11.130933   \n",
              "std     8.453392e+05     0.271604                 4.908924   \n",
              "min     1.645970e+05     0.000000                 2.000000   \n",
              "25%     8.443410e+05     0.000000                 8.000000   \n",
              "50%     1.168386e+06     0.000000                10.000000   \n",
              "75%     1.640137e+06     0.000000                14.000000   \n",
              "max     1.014934e+07     7.000000                43.000000   \n",
              "\n",
              "       Years of Credit History  Maximum Open Credit  \\\n",
              "count              7500.000000         7.500000e+03   \n",
              "mean                 18.317467         9.451537e+05   \n",
              "std                   7.041946         1.602622e+07   \n",
              "min                   4.000000         0.000000e+00   \n",
              "25%                  13.500000         2.792295e+05   \n",
              "50%                  17.000000         4.781590e+05   \n",
              "75%                  21.800000         7.935015e+05   \n",
              "max                  57.700000         1.304726e+09   \n",
              "\n",
              "       Number of Credit Problems  Months since last delinquent  Bankruptcies  \\\n",
              "count                7500.000000                   3419.000000   7486.000000   \n",
              "mean                    0.170000                     34.692600      0.117152   \n",
              "std                     0.498598                     21.688806      0.347192   \n",
              "min                     0.000000                      0.000000      0.000000   \n",
              "25%                     0.000000                     16.000000      0.000000   \n",
              "50%                     0.000000                     32.000000      0.000000   \n",
              "75%                     0.000000                     50.000000      0.000000   \n",
              "max                     7.000000                    118.000000      4.000000   \n",
              "\n",
              "       Current Loan Amount  Current Credit Balance   Monthly Debt  \\\n",
              "count         7.500000e+03            7.500000e+03    7500.000000   \n",
              "mean          1.187318e+07            2.898332e+05   18314.454133   \n",
              "std           3.192612e+07            3.178714e+05   11926.764673   \n",
              "min           1.124200e+04            0.000000e+00       0.000000   \n",
              "25%           1.801690e+05            1.142565e+05   10067.500000   \n",
              "50%           3.095730e+05            2.093230e+05   16076.500000   \n",
              "75%           5.198820e+05            3.604062e+05   23818.000000   \n",
              "max           1.000000e+08            6.506797e+06  136679.000000   \n",
              "\n",
              "       Credit Score  Credit Default  \n",
              "count   5943.000000     7500.000000  \n",
              "mean    1151.087498        0.281733  \n",
              "std     1604.451418        0.449874  \n",
              "min      585.000000        0.000000  \n",
              "25%      711.000000        0.000000  \n",
              "50%      731.000000        0.000000  \n",
              "75%      743.000000        1.000000  \n",
              "max     7510.000000        1.000000  "
            ],
            "text/html": [
              "\n",
              "  <div id=\"df-5a10232b-de2f-42b6-8445-cea8eddbfd34\">\n",
              "    <div class=\"colab-df-container\">\n",
              "      <div>\n",
              "<style scoped>\n",
              "    .dataframe tbody tr th:only-of-type {\n",
              "        vertical-align: middle;\n",
              "    }\n",
              "\n",
              "    .dataframe tbody tr th {\n",
              "        vertical-align: top;\n",
              "    }\n",
              "\n",
              "    .dataframe thead th {\n",
              "        text-align: right;\n",
              "    }\n",
              "</style>\n",
              "<table border=\"1\" class=\"dataframe\">\n",
              "  <thead>\n",
              "    <tr style=\"text-align: right;\">\n",
              "      <th></th>\n",
              "      <th>Annual Income</th>\n",
              "      <th>Tax Liens</th>\n",
              "      <th>Number of Open Accounts</th>\n",
              "      <th>Years of Credit History</th>\n",
              "      <th>Maximum Open Credit</th>\n",
              "      <th>Number of Credit Problems</th>\n",
              "      <th>Months since last delinquent</th>\n",
              "      <th>Bankruptcies</th>\n",
              "      <th>Current Loan Amount</th>\n",
              "      <th>Current Credit Balance</th>\n",
              "      <th>Monthly Debt</th>\n",
              "      <th>Credit Score</th>\n",
              "      <th>Credit Default</th>\n",
              "    </tr>\n",
              "  </thead>\n",
              "  <tbody>\n",
              "    <tr>\n",
              "      <th>count</th>\n",
              "      <td>5.943000e+03</td>\n",
              "      <td>7500.000000</td>\n",
              "      <td>7500.000000</td>\n",
              "      <td>7500.000000</td>\n",
              "      <td>7.500000e+03</td>\n",
              "      <td>7500.000000</td>\n",
              "      <td>3419.000000</td>\n",
              "      <td>7486.000000</td>\n",
              "      <td>7.500000e+03</td>\n",
              "      <td>7.500000e+03</td>\n",
              "      <td>7500.000000</td>\n",
              "      <td>5943.000000</td>\n",
              "      <td>7500.000000</td>\n",
              "    </tr>\n",
              "    <tr>\n",
              "      <th>mean</th>\n",
              "      <td>1.366392e+06</td>\n",
              "      <td>0.030133</td>\n",
              "      <td>11.130933</td>\n",
              "      <td>18.317467</td>\n",
              "      <td>9.451537e+05</td>\n",
              "      <td>0.170000</td>\n",
              "      <td>34.692600</td>\n",
              "      <td>0.117152</td>\n",
              "      <td>1.187318e+07</td>\n",
              "      <td>2.898332e+05</td>\n",
              "      <td>18314.454133</td>\n",
              "      <td>1151.087498</td>\n",
              "      <td>0.281733</td>\n",
              "    </tr>\n",
              "    <tr>\n",
              "      <th>std</th>\n",
              "      <td>8.453392e+05</td>\n",
              "      <td>0.271604</td>\n",
              "      <td>4.908924</td>\n",
              "      <td>7.041946</td>\n",
              "      <td>1.602622e+07</td>\n",
              "      <td>0.498598</td>\n",
              "      <td>21.688806</td>\n",
              "      <td>0.347192</td>\n",
              "      <td>3.192612e+07</td>\n",
              "      <td>3.178714e+05</td>\n",
              "      <td>11926.764673</td>\n",
              "      <td>1604.451418</td>\n",
              "      <td>0.449874</td>\n",
              "    </tr>\n",
              "    <tr>\n",
              "      <th>min</th>\n",
              "      <td>1.645970e+05</td>\n",
              "      <td>0.000000</td>\n",
              "      <td>2.000000</td>\n",
              "      <td>4.000000</td>\n",
              "      <td>0.000000e+00</td>\n",
              "      <td>0.000000</td>\n",
              "      <td>0.000000</td>\n",
              "      <td>0.000000</td>\n",
              "      <td>1.124200e+04</td>\n",
              "      <td>0.000000e+00</td>\n",
              "      <td>0.000000</td>\n",
              "      <td>585.000000</td>\n",
              "      <td>0.000000</td>\n",
              "    </tr>\n",
              "    <tr>\n",
              "      <th>25%</th>\n",
              "      <td>8.443410e+05</td>\n",
              "      <td>0.000000</td>\n",
              "      <td>8.000000</td>\n",
              "      <td>13.500000</td>\n",
              "      <td>2.792295e+05</td>\n",
              "      <td>0.000000</td>\n",
              "      <td>16.000000</td>\n",
              "      <td>0.000000</td>\n",
              "      <td>1.801690e+05</td>\n",
              "      <td>1.142565e+05</td>\n",
              "      <td>10067.500000</td>\n",
              "      <td>711.000000</td>\n",
              "      <td>0.000000</td>\n",
              "    </tr>\n",
              "    <tr>\n",
              "      <th>50%</th>\n",
              "      <td>1.168386e+06</td>\n",
              "      <td>0.000000</td>\n",
              "      <td>10.000000</td>\n",
              "      <td>17.000000</td>\n",
              "      <td>4.781590e+05</td>\n",
              "      <td>0.000000</td>\n",
              "      <td>32.000000</td>\n",
              "      <td>0.000000</td>\n",
              "      <td>3.095730e+05</td>\n",
              "      <td>2.093230e+05</td>\n",
              "      <td>16076.500000</td>\n",
              "      <td>731.000000</td>\n",
              "      <td>0.000000</td>\n",
              "    </tr>\n",
              "    <tr>\n",
              "      <th>75%</th>\n",
              "      <td>1.640137e+06</td>\n",
              "      <td>0.000000</td>\n",
              "      <td>14.000000</td>\n",
              "      <td>21.800000</td>\n",
              "      <td>7.935015e+05</td>\n",
              "      <td>0.000000</td>\n",
              "      <td>50.000000</td>\n",
              "      <td>0.000000</td>\n",
              "      <td>5.198820e+05</td>\n",
              "      <td>3.604062e+05</td>\n",
              "      <td>23818.000000</td>\n",
              "      <td>743.000000</td>\n",
              "      <td>1.000000</td>\n",
              "    </tr>\n",
              "    <tr>\n",
              "      <th>max</th>\n",
              "      <td>1.014934e+07</td>\n",
              "      <td>7.000000</td>\n",
              "      <td>43.000000</td>\n",
              "      <td>57.700000</td>\n",
              "      <td>1.304726e+09</td>\n",
              "      <td>7.000000</td>\n",
              "      <td>118.000000</td>\n",
              "      <td>4.000000</td>\n",
              "      <td>1.000000e+08</td>\n",
              "      <td>6.506797e+06</td>\n",
              "      <td>136679.000000</td>\n",
              "      <td>7510.000000</td>\n",
              "      <td>1.000000</td>\n",
              "    </tr>\n",
              "  </tbody>\n",
              "</table>\n",
              "</div>\n",
              "      <button class=\"colab-df-convert\" onclick=\"convertToInteractive('df-5a10232b-de2f-42b6-8445-cea8eddbfd34')\"\n",
              "              title=\"Convert this dataframe to an interactive table.\"\n",
              "              style=\"display:none;\">\n",
              "        \n",
              "  <svg xmlns=\"http://www.w3.org/2000/svg\" height=\"24px\"viewBox=\"0 0 24 24\"\n",
              "       width=\"24px\">\n",
              "    <path d=\"M0 0h24v24H0V0z\" fill=\"none\"/>\n",
              "    <path d=\"M18.56 5.44l.94 2.06.94-2.06 2.06-.94-2.06-.94-.94-2.06-.94 2.06-2.06.94zm-11 1L8.5 8.5l.94-2.06 2.06-.94-2.06-.94L8.5 2.5l-.94 2.06-2.06.94zm10 10l.94 2.06.94-2.06 2.06-.94-2.06-.94-.94-2.06-.94 2.06-2.06.94z\"/><path d=\"M17.41 7.96l-1.37-1.37c-.4-.4-.92-.59-1.43-.59-.52 0-1.04.2-1.43.59L10.3 9.45l-7.72 7.72c-.78.78-.78 2.05 0 2.83L4 21.41c.39.39.9.59 1.41.59.51 0 1.02-.2 1.41-.59l7.78-7.78 2.81-2.81c.8-.78.8-2.07 0-2.86zM5.41 20L4 18.59l7.72-7.72 1.47 1.35L5.41 20z\"/>\n",
              "  </svg>\n",
              "      </button>\n",
              "      \n",
              "  <style>\n",
              "    .colab-df-container {\n",
              "      display:flex;\n",
              "      flex-wrap:wrap;\n",
              "      gap: 12px;\n",
              "    }\n",
              "\n",
              "    .colab-df-convert {\n",
              "      background-color: #E8F0FE;\n",
              "      border: none;\n",
              "      border-radius: 50%;\n",
              "      cursor: pointer;\n",
              "      display: none;\n",
              "      fill: #1967D2;\n",
              "      height: 32px;\n",
              "      padding: 0 0 0 0;\n",
              "      width: 32px;\n",
              "    }\n",
              "\n",
              "    .colab-df-convert:hover {\n",
              "      background-color: #E2EBFA;\n",
              "      box-shadow: 0px 1px 2px rgba(60, 64, 67, 0.3), 0px 1px 3px 1px rgba(60, 64, 67, 0.15);\n",
              "      fill: #174EA6;\n",
              "    }\n",
              "\n",
              "    [theme=dark] .colab-df-convert {\n",
              "      background-color: #3B4455;\n",
              "      fill: #D2E3FC;\n",
              "    }\n",
              "\n",
              "    [theme=dark] .colab-df-convert:hover {\n",
              "      background-color: #434B5C;\n",
              "      box-shadow: 0px 1px 3px 1px rgba(0, 0, 0, 0.15);\n",
              "      filter: drop-shadow(0px 1px 2px rgba(0, 0, 0, 0.3));\n",
              "      fill: #FFFFFF;\n",
              "    }\n",
              "  </style>\n",
              "\n",
              "      <script>\n",
              "        const buttonEl =\n",
              "          document.querySelector('#df-5a10232b-de2f-42b6-8445-cea8eddbfd34 button.colab-df-convert');\n",
              "        buttonEl.style.display =\n",
              "          google.colab.kernel.accessAllowed ? 'block' : 'none';\n",
              "\n",
              "        async function convertToInteractive(key) {\n",
              "          const element = document.querySelector('#df-5a10232b-de2f-42b6-8445-cea8eddbfd34');\n",
              "          const dataTable =\n",
              "            await google.colab.kernel.invokeFunction('convertToInteractive',\n",
              "                                                     [key], {});\n",
              "          if (!dataTable) return;\n",
              "\n",
              "          const docLinkHtml = 'Like what you see? Visit the ' +\n",
              "            '<a target=\"_blank\" href=https://colab.research.google.com/notebooks/data_table.ipynb>data table notebook</a>'\n",
              "            + ' to learn more about interactive tables.';\n",
              "          element.innerHTML = '';\n",
              "          dataTable['output_type'] = 'display_data';\n",
              "          await google.colab.output.renderOutput(dataTable, element);\n",
              "          const docLink = document.createElement('div');\n",
              "          docLink.innerHTML = docLinkHtml;\n",
              "          element.appendChild(docLink);\n",
              "        }\n",
              "      </script>\n",
              "    </div>\n",
              "  </div>\n",
              "  "
            ]
          },
          "metadata": {},
          "execution_count": 25
        }
      ],
      "source": [
        "data_train.describe()"
      ]
    },
    {
      "cell_type": "code",
      "execution_count": 26,
      "metadata": {
        "id": "3s3LVOkhQaW0",
        "outputId": "56aca914-e1f9-45b5-9045-276525097000",
        "colab": {
          "base_uri": "https://localhost:8080/"
        }
      },
      "outputs": [
        {
          "output_type": "execute_result",
          "data": {
            "text/plain": [
              "0    5387\n",
              "1    2113\n",
              "Name: Credit Default, dtype: int64"
            ]
          },
          "metadata": {},
          "execution_count": 26
        }
      ],
      "source": [
        "data_train['Credit Default'].value_counts()"
      ]
    },
    {
      "cell_type": "code",
      "execution_count": 27,
      "metadata": {
        "id": "GKVWnT65QaW0"
      },
      "outputs": [],
      "source": [
        "all_data = build_all_data()"
      ]
    },
    {
      "cell_type": "code",
      "execution_count": 28,
      "metadata": {
        "id": "isMirk2fQaW0",
        "outputId": "bad7a3af-6aab-45f5-9522-699e99bcdd05",
        "colab": {
          "base_uri": "https://localhost:8080/",
          "height": 938
        }
      },
      "outputs": [
        {
          "output_type": "stream",
          "name": "stdout",
          "text": [
            "Home Ownership\n",
            "\n",
            "Home Mortgage    4862\n",
            "Rent             4224\n",
            "Own Home          895\n",
            "Have Mortgage      19\n",
            "Name: Home Ownership, dtype: int64\n",
            "****************************************************************************************************\n",
            "\n",
            "Years in current job\n",
            "\n",
            "10+ years    3142\n",
            "2 years       917\n",
            "3 years       848\n",
            "< 1 year      770\n",
            "5 years       685\n",
            "1 year        657\n",
            "4 years       621\n",
            "6 years       563\n",
            "7 years       536\n",
            "8 years       446\n",
            "9 years       358\n",
            "Name: Years in current job, dtype: int64\n",
            "****************************************************************************************************\n",
            "\n",
            "Purpose\n",
            "\n",
            "debt consolidation      7917\n",
            "other                    905\n",
            "home improvements        552\n",
            "business loan            159\n",
            "buy a car                130\n",
            "medical bills             98\n",
            "buy house                 53\n",
            "take a trip               51\n",
            "major purchase            49\n",
            "small business            31\n",
            "wedding                   17\n",
            "educational expenses      13\n",
            "moving                    12\n",
            "vacation                  11\n",
            "renewable energy           2\n",
            "Name: Purpose, dtype: int64\n",
            "****************************************************************************************************\n",
            "\n",
            "Term\n",
            "\n",
            "Short Term    7417\n",
            "Long Term     2583\n",
            "Name: Term, dtype: int64\n",
            "****************************************************************************************************\n",
            "\n"
          ]
        },
        {
          "output_type": "execute_result",
          "data": {
            "text/plain": [
              "'Home Ownership'"
            ],
            "application/vnd.google.colaboratory.intrinsic+json": {
              "type": "string"
            }
          },
          "metadata": {},
          "execution_count": 28
        }
      ],
      "source": [
        "\n",
        "for cat_colname in all_data.select_dtypes(include='object').columns:\n",
        "    CAT_FEATURES.append(str(cat_colname))\n",
        "    print(str(cat_colname) + '\\n\\n' + str(all_data[cat_colname].value_counts()) + '\\n' + '*' * 100 + '\\n')\n",
        "CAT_FEATURES.pop(CAT_FEATURES.index('Home Ownership'))\n"
      ]
    },
    {
      "cell_type": "markdown",
      "metadata": {
        "id": "Sn6-jSb3QaW1"
      },
      "source": [
        "__2. Обработка выбросов__<a class=\"anchor\" id=\"data_fix\"></a>"
      ]
    },
    {
      "cell_type": "markdown",
      "metadata": {
        "id": "0H53GAjRQaW1"
      },
      "source": [
        "_Home Ownership_"
      ]
    },
    {
      "cell_type": "code",
      "execution_count": 29,
      "metadata": {
        "id": "pkNsnQpsQaW1",
        "outputId": "eae0c1cc-b55c-478a-e171-d171e3fe9774",
        "colab": {
          "base_uri": "https://localhost:8080/"
        }
      },
      "outputs": [
        {
          "output_type": "execute_result",
          "data": {
            "text/plain": [
              "Have Mortgage      19\n",
              "Home Mortgage    4862\n",
              "Own Home          895\n",
              "Rent             4224\n",
              "dtype: int64"
            ]
          },
          "metadata": {},
          "execution_count": 29
        }
      ],
      "source": [
        "FEATURE = 'Home Ownership'\n",
        "pd.get_dummies(all_data[FEATURE]).sum()"
      ]
    },
    {
      "cell_type": "markdown",
      "metadata": {
        "id": "ykPV66jqQaW1"
      },
      "source": [
        "_Annual Income_"
      ]
    },
    {
      "cell_type": "code",
      "execution_count": 30,
      "metadata": {
        "id": "NzQhcOT-QaW2",
        "outputId": "72061f25-a33e-4532-eedb-9e7680e4db9f",
        "colab": {
          "base_uri": "https://localhost:8080/",
          "height": 435
        }
      },
      "outputs": [
        {
          "output_type": "stream",
          "name": "stdout",
          "text": [
            "count    7.930000e+03\n",
            "mean     1.366525e+06\n",
            "std      8.638276e+05\n",
            "min      1.065330e+05\n",
            "25%      8.459892e+05\n",
            "50%      1.168814e+06\n",
            "75%      1.638693e+06\n",
            "max      1.497561e+07\n",
            "Name: Annual Income, dtype: float64\n"
          ]
        },
        {
          "output_type": "display_data",
          "data": {
            "text/plain": [
              "<Figure size 432x288 with 1 Axes>"
            ],
            "image/png": "[encoded data removed]"
          },
          "metadata": {
            "needs_background": "light"
          }
        }
      ],
      "source": [
        "FEATURE = 'Annual Income'\n",
        "present_feature(all_data,FEATURE)"
      ]
    },
    {
      "cell_type": "code",
      "execution_count": 31,
      "metadata": {
        "id": "zDV-VvvTQaW2",
        "outputId": "7f6a45c9-223f-4ba4-dc65-87fba609e84a",
        "colab": {
          "base_uri": "https://localhost:8080/",
          "height": 306
        }
      },
      "outputs": [
        {
          "output_type": "execute_result",
          "data": {
            "text/plain": [
              "     Home Ownership  Annual Income Years in current job  Tax Liens  \\\n",
              "6472           Rent     10149344.0              5 years        0.0   \n",
              "36    Home Mortgage     14934114.0              7 years        0.0   \n",
              "194            Rent     14975610.0              5 years        0.0   \n",
              "1089  Home Mortgage     10275770.0              6 years        0.0   \n",
              "\n",
              "      Number of Open Accounts  Years of Credit History  Maximum Open Credit  \\\n",
              "6472                     10.0                     17.5             270380.0   \n",
              "36                        7.0                     15.4             177298.0   \n",
              "194                       5.0                     44.3             155518.0   \n",
              "1089                     18.0                     15.6            1242538.0   \n",
              "\n",
              "      Number of Credit Problems  Months since last delinquent  Bankruptcies  \\\n",
              "6472                        0.0                          22.0           0.0   \n",
              "36                          0.0                           NaN           0.0   \n",
              "194                         0.0                           NaN           0.0   \n",
              "1089                        0.0                           NaN           0.0   \n",
              "\n",
              "                 Purpose        Term  Current Loan Amount  \\\n",
              "6472  debt consolidation  Short Term             664818.0   \n",
              "36                 other  Short Term              99770.0   \n",
              "194       major purchase   Long Term             133386.0   \n",
              "1089  debt consolidation   Long Term             608432.0   \n",
              "\n",
              "      Current Credit Balance  Monthly Debt  Credit Score  \n",
              "6472                205713.0       61235.0         692.0  \n",
              "36                   57722.0        7218.0         746.0  \n",
              "194                 103968.0        3369.0         738.0  \n",
              "1089                115900.0       79038.0         746.0  "
            ],
            "text/html": [
              "\n",
              "  <div id=\"df-b9256169-be71-40f1-847d-2f49ae9001f4\">\n",
              "    <div class=\"colab-df-container\">\n",
              "      <div>\n",
              "<style scoped>\n",
              "    .dataframe tbody tr th:only-of-type {\n",
              "        vertical-align: middle;\n",
              "    }\n",
              "\n",
              "    .dataframe tbody tr th {\n",
              "        vertical-align: top;\n",
              "    }\n",
              "\n",
              "    .dataframe thead th {\n",
              "        text-align: right;\n",
              "    }\n",
              "</style>\n",
              "<table border=\"1\" class=\"dataframe\">\n",
              "  <thead>\n",
              "    <tr style=\"text-align: right;\">\n",
              "      <th></th>\n",
              "      <th>Home Ownership</th>\n",
              "      <th>Annual Income</th>\n",
              "      <th>Years in current job</th>\n",
              "      <th>Tax Liens</th>\n",
              "      <th>Number of Open Accounts</th>\n",
              "      <th>Years of Credit History</th>\n",
              "      <th>Maximum Open Credit</th>\n",
              "      <th>Number of Credit Problems</th>\n",
              "      <th>Months since last delinquent</th>\n",
              "      <th>Bankruptcies</th>\n",
              "      <th>Purpose</th>\n",
              "      <th>Term</th>\n",
              "      <th>Current Loan Amount</th>\n",
              "      <th>Current Credit Balance</th>\n",
              "      <th>Monthly Debt</th>\n",
              "      <th>Credit Score</th>\n",
              "    </tr>\n",
              "  </thead>\n",
              "  <tbody>\n",
              "    <tr>\n",
              "      <th>6472</th>\n",
              "      <td>Rent</td>\n",
              "      <td>10149344.0</td>\n",
              "      <td>5 years</td>\n",
              "      <td>0.0</td>\n",
              "      <td>10.0</td>\n",
              "      <td>17.5</td>\n",
              "      <td>270380.0</td>\n",
              "      <td>0.0</td>\n",
              "      <td>22.0</td>\n",
              "      <td>0.0</td>\n",
              "      <td>debt consolidation</td>\n",
              "      <td>Short Term</td>\n",
              "      <td>664818.0</td>\n",
              "      <td>205713.0</td>\n",
              "      <td>61235.0</td>\n",
              "      <td>692.0</td>\n",
              "    </tr>\n",
              "    <tr>\n",
              "      <th>36</th>\n",
              "      <td>Home Mortgage</td>\n",
              "      <td>14934114.0</td>\n",
              "      <td>7 years</td>\n",
              "      <td>0.0</td>\n",
              "      <td>7.0</td>\n",
              "      <td>15.4</td>\n",
              "      <td>177298.0</td>\n",
              "      <td>0.0</td>\n",
              "      <td>NaN</td>\n",
              "      <td>0.0</td>\n",
              "      <td>other</td>\n",
              "      <td>Short Term</td>\n",
              "      <td>99770.0</td>\n",
              "      <td>57722.0</td>\n",
              "      <td>7218.0</td>\n",
              "      <td>746.0</td>\n",
              "    </tr>\n",
              "    <tr>\n",
              "      <th>194</th>\n",
              "      <td>Rent</td>\n",
              "      <td>14975610.0</td>\n",
              "      <td>5 years</td>\n",
              "      <td>0.0</td>\n",
              "      <td>5.0</td>\n",
              "      <td>44.3</td>\n",
              "      <td>155518.0</td>\n",
              "      <td>0.0</td>\n",
              "      <td>NaN</td>\n",
              "      <td>0.0</td>\n",
              "      <td>major purchase</td>\n",
              "      <td>Long Term</td>\n",
              "      <td>133386.0</td>\n",
              "      <td>103968.0</td>\n",
              "      <td>3369.0</td>\n",
              "      <td>738.0</td>\n",
              "    </tr>\n",
              "    <tr>\n",
              "      <th>1089</th>\n",
              "      <td>Home Mortgage</td>\n",
              "      <td>10275770.0</td>\n",
              "      <td>6 years</td>\n",
              "      <td>0.0</td>\n",
              "      <td>18.0</td>\n",
              "      <td>15.6</td>\n",
              "      <td>1242538.0</td>\n",
              "      <td>0.0</td>\n",
              "      <td>NaN</td>\n",
              "      <td>0.0</td>\n",
              "      <td>debt consolidation</td>\n",
              "      <td>Long Term</td>\n",
              "      <td>608432.0</td>\n",
              "      <td>115900.0</td>\n",
              "      <td>79038.0</td>\n",
              "      <td>746.0</td>\n",
              "    </tr>\n",
              "  </tbody>\n",
              "</table>\n",
              "</div>\n",
              "      <button class=\"colab-df-convert\" onclick=\"convertToInteractive('df-b9256169-be71-40f1-847d-2f49ae9001f4')\"\n",
              "              title=\"Convert this dataframe to an interactive table.\"\n",
              "              style=\"display:none;\">\n",
              "        \n",
              "  <svg xmlns=\"http://www.w3.org/2000/svg\" height=\"24px\"viewBox=\"0 0 24 24\"\n",
              "       width=\"24px\">\n",
              "    <path d=\"M0 0h24v24H0V0z\" fill=\"none\"/>\n",
              "    <path d=\"M18.56 5.44l.94 2.06.94-2.06 2.06-.94-2.06-.94-.94-2.06-.94 2.06-2.06.94zm-11 1L8.5 8.5l.94-2.06 2.06-.94-2.06-.94L8.5 2.5l-.94 2.06-2.06.94zm10 10l.94 2.06.94-2.06 2.06-.94-2.06-.94-.94-2.06-.94 2.06-2.06.94z\"/><path d=\"M17.41 7.96l-1.37-1.37c-.4-.4-.92-.59-1.43-.59-.52 0-1.04.2-1.43.59L10.3 9.45l-7.72 7.72c-.78.78-.78 2.05 0 2.83L4 21.41c.39.39.9.59 1.41.59.51 0 1.02-.2 1.41-.59l7.78-7.78 2.81-2.81c.8-.78.8-2.07 0-2.86zM5.41 20L4 18.59l7.72-7.72 1.47 1.35L5.41 20z\"/>\n",
              "  </svg>\n",
              "      </button>\n",
              "      \n",
              "  <style>\n",
              "    .colab-df-container {\n",
              "      display:flex;\n",
              "      flex-wrap:wrap;\n",
              "      gap: 12px;\n",
              "    }\n",
              "\n",
              "    .colab-df-convert {\n",
              "      background-color: #E8F0FE;\n",
              "      border: none;\n",
              "      border-radius: 50%;\n",
              "      cursor: pointer;\n",
              "      display: none;\n",
              "      fill: #1967D2;\n",
              "      height: 32px;\n",
              "      padding: 0 0 0 0;\n",
              "      width: 32px;\n",
              "    }\n",
              "\n",
              "    .colab-df-convert:hover {\n",
              "      background-color: #E2EBFA;\n",
              "      box-shadow: 0px 1px 2px rgba(60, 64, 67, 0.3), 0px 1px 3px 1px rgba(60, 64, 67, 0.15);\n",
              "      fill: #174EA6;\n",
              "    }\n",
              "\n",
              "    [theme=dark] .colab-df-convert {\n",
              "      background-color: #3B4455;\n",
              "      fill: #D2E3FC;\n",
              "    }\n",
              "\n",
              "    [theme=dark] .colab-df-convert:hover {\n",
              "      background-color: #434B5C;\n",
              "      box-shadow: 0px 1px 3px 1px rgba(0, 0, 0, 0.15);\n",
              "      filter: drop-shadow(0px 1px 2px rgba(0, 0, 0, 0.3));\n",
              "      fill: #FFFFFF;\n",
              "    }\n",
              "  </style>\n",
              "\n",
              "      <script>\n",
              "        const buttonEl =\n",
              "          document.querySelector('#df-b9256169-be71-40f1-847d-2f49ae9001f4 button.colab-df-convert');\n",
              "        buttonEl.style.display =\n",
              "          google.colab.kernel.accessAllowed ? 'block' : 'none';\n",
              "\n",
              "        async function convertToInteractive(key) {\n",
              "          const element = document.querySelector('#df-b9256169-be71-40f1-847d-2f49ae9001f4');\n",
              "          const dataTable =\n",
              "            await google.colab.kernel.invokeFunction('convertToInteractive',\n",
              "                                                     [key], {});\n",
              "          if (!dataTable) return;\n",
              "\n",
              "          const docLinkHtml = 'Like what you see? Visit the ' +\n",
              "            '<a target=\"_blank\" href=https://colab.research.google.com/notebooks/data_table.ipynb>data table notebook</a>'\n",
              "            + ' to learn more about interactive tables.';\n",
              "          element.innerHTML = '';\n",
              "          dataTable['output_type'] = 'display_data';\n",
              "          await google.colab.output.renderOutput(dataTable, element);\n",
              "          const docLink = document.createElement('div');\n",
              "          docLink.innerHTML = docLinkHtml;\n",
              "          element.appendChild(docLink);\n",
              "        }\n",
              "      </script>\n",
              "    </div>\n",
              "  </div>\n",
              "  "
            ]
          },
          "metadata": {},
          "execution_count": 31
        }
      ],
      "source": [
        "all_data.loc[all_data[FEATURE] > 1e7]"
      ]
    },
    {
      "cell_type": "code",
      "execution_count": 32,
      "metadata": {
        "id": "EPq2yJ5GQaW2"
      },
      "outputs": [],
      "source": [
        "data_train.loc[data_train[FEATURE] > 1e7,FEATURE] = all_data[FEATURE].median()\n",
        "data_test.loc[data_test[FEATURE] > 1e7,FEATURE] = all_data[FEATURE].median()"
      ]
    },
    {
      "cell_type": "markdown",
      "metadata": {
        "id": "9GgXuLJvQaW2"
      },
      "source": [
        "_Years in current job_"
      ]
    },
    {
      "cell_type": "code",
      "execution_count": 33,
      "metadata": {
        "id": "RzIjFdV8QaW3",
        "outputId": "6a3e11af-8c02-4aaf-b33a-eaa214a61f98",
        "colab": {
          "base_uri": "https://localhost:8080/"
        }
      },
      "outputs": [
        {
          "output_type": "execute_result",
          "data": {
            "text/plain": [
              "10+ years    3142\n",
              "2 years       917\n",
              "3 years       848\n",
              "< 1 year      770\n",
              "5 years       685\n",
              "1 year        657\n",
              "4 years       621\n",
              "6 years       563\n",
              "7 years       536\n",
              "8 years       446\n",
              "9 years       358\n",
              "Name: Years in current job, dtype: int64"
            ]
          },
          "metadata": {},
          "execution_count": 33
        }
      ],
      "source": [
        "FEATURE = 'Years in current job'\n",
        "\n",
        "all_data['Years in current job'].value_counts()"
      ]
    },
    {
      "cell_type": "markdown",
      "metadata": {
        "id": "edh1XLK8QaW3"
      },
      "source": [
        "_Tax Liens_"
      ]
    },
    {
      "cell_type": "code",
      "execution_count": 34,
      "metadata": {
        "id": "UELPddy5QaW4",
        "outputId": "52119b13-3e5d-4b50-eddd-eac6f4577c21",
        "colab": {
          "base_uri": "https://localhost:8080/",
          "height": 435
        }
      },
      "outputs": [
        {
          "output_type": "stream",
          "name": "stdout",
          "text": [
            "count    10000.000000\n",
            "mean         0.031400\n",
            "std          0.304341\n",
            "min          0.000000\n",
            "25%          0.000000\n",
            "50%          0.000000\n",
            "75%          0.000000\n",
            "max         15.000000\n",
            "Name: Tax Liens, dtype: float64\n"
          ]
        },
        {
          "output_type": "display_data",
          "data": {
            "text/plain": [
              "<Figure size 432x288 with 1 Axes>"
            ],
            "image/png": "[encoded data removed]"
          },
          "metadata": {
            "needs_background": "light"
          }
        }
      ],
      "source": [
        "FEATURE = 'Tax Liens'\n",
        "present_feature(all_data,FEATURE)"
      ]
    },
    {
      "cell_type": "code",
      "execution_count": 35,
      "metadata": {
        "id": "b2GmpfdsQaW4",
        "outputId": "9a159f8b-42a8-49e4-d70a-621839e7e844",
        "colab": {
          "base_uri": "https://localhost:8080/",
          "height": 354
        }
      },
      "outputs": [
        {
          "output_type": "execute_result",
          "data": {
            "text/plain": [
              "     Home Ownership  Annual Income Years in current job  Tax Liens  \\\n",
              "1214           Rent      3061584.0              2 years        6.0   \n",
              "5373       Own Home      1711881.0            10+ years        6.0   \n",
              "5969           Rent      2897310.0            10+ years        7.0   \n",
              "818   Home Mortgage      1161090.0            10+ years        6.0   \n",
              "2282       Own Home      1410294.0            10+ years       15.0   \n",
              "\n",
              "      Number of Open Accounts  Years of Credit History  Maximum Open Credit  \\\n",
              "1214                     14.0                     28.9             949564.0   \n",
              "5373                     12.0                     15.4             551166.0   \n",
              "5969                      9.0                     20.0             434126.0   \n",
              "818                      26.0                     15.4              64988.0   \n",
              "2282                      5.0                     20.1             478984.0   \n",
              "\n",
              "      Number of Credit Problems  Months since last delinquent  Bankruptcies  \\\n",
              "1214                        6.0                          67.0           0.0   \n",
              "5373                        6.0                          26.0           0.0   \n",
              "5969                        7.0                          54.0           0.0   \n",
              "818                         7.0                          16.0           0.0   \n",
              "2282                       15.0                          42.0           0.0   \n",
              "\n",
              "                 Purpose        Term  Current Loan Amount  \\\n",
              "1214  debt consolidation  Short Term           99999999.0   \n",
              "5373  debt consolidation  Short Term             313654.0   \n",
              "5969       medical bills  Short Term             782782.0   \n",
              "818   debt consolidation  Short Term             108108.0   \n",
              "2282  debt consolidation  Short Term             447392.0   \n",
              "\n",
              "      Current Credit Balance  Monthly Debt  Credit Score  \n",
              "1214                352640.0       29595.0         740.0  \n",
              "5373                295602.0       36092.0         741.0  \n",
              "5969                275576.0       37182.0         716.0  \n",
              "818                  48773.0        8786.0         705.0  \n",
              "2282                301549.0       15513.0         746.0  "
            ],
            "text/html": [
              "\n",
              "  <div id=\"df-788bdde0-80e9-4510-9654-95287f3b9c9e\">\n",
              "    <div class=\"colab-df-container\">\n",
              "      <div>\n",
              "<style scoped>\n",
              "    .dataframe tbody tr th:only-of-type {\n",
              "        vertical-align: middle;\n",
              "    }\n",
              "\n",
              "    .dataframe tbody tr th {\n",
              "        vertical-align: top;\n",
              "    }\n",
              "\n",
              "    .dataframe thead th {\n",
              "        text-align: right;\n",
              "    }\n",
              "</style>\n",
              "<table border=\"1\" class=\"dataframe\">\n",
              "  <thead>\n",
              "    <tr style=\"text-align: right;\">\n",
              "      <th></th>\n",
              "      <th>Home Ownership</th>\n",
              "      <th>Annual Income</th>\n",
              "      <th>Years in current job</th>\n",
              "      <th>Tax Liens</th>\n",
              "      <th>Number of Open Accounts</th>\n",
              "      <th>Years of Credit History</th>\n",
              "      <th>Maximum Open Credit</th>\n",
              "      <th>Number of Credit Problems</th>\n",
              "      <th>Months since last delinquent</th>\n",
              "      <th>Bankruptcies</th>\n",
              "      <th>Purpose</th>\n",
              "      <th>Term</th>\n",
              "      <th>Current Loan Amount</th>\n",
              "      <th>Current Credit Balance</th>\n",
              "      <th>Monthly Debt</th>\n",
              "      <th>Credit Score</th>\n",
              "    </tr>\n",
              "  </thead>\n",
              "  <tbody>\n",
              "    <tr>\n",
              "      <th>1214</th>\n",
              "      <td>Rent</td>\n",
              "      <td>3061584.0</td>\n",
              "      <td>2 years</td>\n",
              "      <td>6.0</td>\n",
              "      <td>14.0</td>\n",
              "      <td>28.9</td>\n",
              "      <td>949564.0</td>\n",
              "      <td>6.0</td>\n",
              "      <td>67.0</td>\n",
              "      <td>0.0</td>\n",
              "      <td>debt consolidation</td>\n",
              "      <td>Short Term</td>\n",
              "      <td>99999999.0</td>\n",
              "      <td>352640.0</td>\n",
              "      <td>29595.0</td>\n",
              "      <td>740.0</td>\n",
              "    </tr>\n",
              "    <tr>\n",
              "      <th>5373</th>\n",
              "      <td>Own Home</td>\n",
              "      <td>1711881.0</td>\n",
              "      <td>10+ years</td>\n",
              "      <td>6.0</td>\n",
              "      <td>12.0</td>\n",
              "      <td>15.4</td>\n",
              "      <td>551166.0</td>\n",
              "      <td>6.0</td>\n",
              "      <td>26.0</td>\n",
              "      <td>0.0</td>\n",
              "      <td>debt consolidation</td>\n",
              "      <td>Short Term</td>\n",
              "      <td>313654.0</td>\n",
              "      <td>295602.0</td>\n",
              "      <td>36092.0</td>\n",
              "      <td>741.0</td>\n",
              "    </tr>\n",
              "    <tr>\n",
              "      <th>5969</th>\n",
              "      <td>Rent</td>\n",
              "      <td>2897310.0</td>\n",
              "      <td>10+ years</td>\n",
              "      <td>7.0</td>\n",
              "      <td>9.0</td>\n",
              "      <td>20.0</td>\n",
              "      <td>434126.0</td>\n",
              "      <td>7.0</td>\n",
              "      <td>54.0</td>\n",
              "      <td>0.0</td>\n",
              "      <td>medical bills</td>\n",
              "      <td>Short Term</td>\n",
              "      <td>782782.0</td>\n",
              "      <td>275576.0</td>\n",
              "      <td>37182.0</td>\n",
              "      <td>716.0</td>\n",
              "    </tr>\n",
              "    <tr>\n",
              "      <th>818</th>\n",
              "      <td>Home Mortgage</td>\n",
              "      <td>1161090.0</td>\n",
              "      <td>10+ years</td>\n",
              "      <td>6.0</td>\n",
              "      <td>26.0</td>\n",
              "      <td>15.4</td>\n",
              "      <td>64988.0</td>\n",
              "      <td>7.0</td>\n",
              "      <td>16.0</td>\n",
              "      <td>0.0</td>\n",
              "      <td>debt consolidation</td>\n",
              "      <td>Short Term</td>\n",
              "      <td>108108.0</td>\n",
              "      <td>48773.0</td>\n",
              "      <td>8786.0</td>\n",
              "      <td>705.0</td>\n",
              "    </tr>\n",
              "    <tr>\n",
              "      <th>2282</th>\n",
              "      <td>Own Home</td>\n",
              "      <td>1410294.0</td>\n",
              "      <td>10+ years</td>\n",
              "      <td>15.0</td>\n",
              "      <td>5.0</td>\n",
              "      <td>20.1</td>\n",
              "      <td>478984.0</td>\n",
              "      <td>15.0</td>\n",
              "      <td>42.0</td>\n",
              "      <td>0.0</td>\n",
              "      <td>debt consolidation</td>\n",
              "      <td>Short Term</td>\n",
              "      <td>447392.0</td>\n",
              "      <td>301549.0</td>\n",
              "      <td>15513.0</td>\n",
              "      <td>746.0</td>\n",
              "    </tr>\n",
              "  </tbody>\n",
              "</table>\n",
              "</div>\n",
              "      <button class=\"colab-df-convert\" onclick=\"convertToInteractive('df-788bdde0-80e9-4510-9654-95287f3b9c9e')\"\n",
              "              title=\"Convert this dataframe to an interactive table.\"\n",
              "              style=\"display:none;\">\n",
              "        \n",
              "  <svg xmlns=\"http://www.w3.org/2000/svg\" height=\"24px\"viewBox=\"0 0 24 24\"\n",
              "       width=\"24px\">\n",
              "    <path d=\"M0 0h24v24H0V0z\" fill=\"none\"/>\n",
              "    <path d=\"M18.56 5.44l.94 2.06.94-2.06 2.06-.94-2.06-.94-.94-2.06-.94 2.06-2.06.94zm-11 1L8.5 8.5l.94-2.06 2.06-.94-2.06-.94L8.5 2.5l-.94 2.06-2.06.94zm10 10l.94 2.06.94-2.06 2.06-.94-2.06-.94-.94-2.06-.94 2.06-2.06.94z\"/><path d=\"M17.41 7.96l-1.37-1.37c-.4-.4-.92-.59-1.43-.59-.52 0-1.04.2-1.43.59L10.3 9.45l-7.72 7.72c-.78.78-.78 2.05 0 2.83L4 21.41c.39.39.9.59 1.41.59.51 0 1.02-.2 1.41-.59l7.78-7.78 2.81-2.81c.8-.78.8-2.07 0-2.86zM5.41 20L4 18.59l7.72-7.72 1.47 1.35L5.41 20z\"/>\n",
              "  </svg>\n",
              "      </button>\n",
              "      \n",
              "  <style>\n",
              "    .colab-df-container {\n",
              "      display:flex;\n",
              "      flex-wrap:wrap;\n",
              "      gap: 12px;\n",
              "    }\n",
              "\n",
              "    .colab-df-convert {\n",
              "      background-color: #E8F0FE;\n",
              "      border: none;\n",
              "      border-radius: 50%;\n",
              "      cursor: pointer;\n",
              "      display: none;\n",
              "      fill: #1967D2;\n",
              "      height: 32px;\n",
              "      padding: 0 0 0 0;\n",
              "      width: 32px;\n",
              "    }\n",
              "\n",
              "    .colab-df-convert:hover {\n",
              "      background-color: #E2EBFA;\n",
              "      box-shadow: 0px 1px 2px rgba(60, 64, 67, 0.3), 0px 1px 3px 1px rgba(60, 64, 67, 0.15);\n",
              "      fill: #174EA6;\n",
              "    }\n",
              "\n",
              "    [theme=dark] .colab-df-convert {\n",
              "      background-color: #3B4455;\n",
              "      fill: #D2E3FC;\n",
              "    }\n",
              "\n",
              "    [theme=dark] .colab-df-convert:hover {\n",
              "      background-color: #434B5C;\n",
              "      box-shadow: 0px 1px 3px 1px rgba(0, 0, 0, 0.15);\n",
              "      filter: drop-shadow(0px 1px 2px rgba(0, 0, 0, 0.3));\n",
              "      fill: #FFFFFF;\n",
              "    }\n",
              "  </style>\n",
              "\n",
              "      <script>\n",
              "        const buttonEl =\n",
              "          document.querySelector('#df-788bdde0-80e9-4510-9654-95287f3b9c9e button.colab-df-convert');\n",
              "        buttonEl.style.display =\n",
              "          google.colab.kernel.accessAllowed ? 'block' : 'none';\n",
              "\n",
              "        async function convertToInteractive(key) {\n",
              "          const element = document.querySelector('#df-788bdde0-80e9-4510-9654-95287f3b9c9e');\n",
              "          const dataTable =\n",
              "            await google.colab.kernel.invokeFunction('convertToInteractive',\n",
              "                                                     [key], {});\n",
              "          if (!dataTable) return;\n",
              "\n",
              "          const docLinkHtml = 'Like what you see? Visit the ' +\n",
              "            '<a target=\"_blank\" href=https://colab.research.google.com/notebooks/data_table.ipynb>data table notebook</a>'\n",
              "            + ' to learn more about interactive tables.';\n",
              "          element.innerHTML = '';\n",
              "          dataTable['output_type'] = 'display_data';\n",
              "          await google.colab.output.renderOutput(dataTable, element);\n",
              "          const docLink = document.createElement('div');\n",
              "          docLink.innerHTML = docLinkHtml;\n",
              "          element.appendChild(docLink);\n",
              "        }\n",
              "      </script>\n",
              "    </div>\n",
              "  </div>\n",
              "  "
            ]
          },
          "metadata": {},
          "execution_count": 35
        }
      ],
      "source": [
        "all_data[all_data[FEATURE] > 5]"
      ]
    },
    {
      "cell_type": "code",
      "execution_count": 36,
      "metadata": {
        "id": "4hrNGSYhQaW4"
      },
      "outputs": [],
      "source": [
        "data_train.loc[data_train[FEATURE] > 5,FEATURE] = all_data[FEATURE].median()\n",
        "data_test.loc[data_test[FEATURE] > 5,FEATURE] = all_data[FEATURE].median()"
      ]
    },
    {
      "cell_type": "markdown",
      "metadata": {
        "id": "aj7DzDGlQaW5"
      },
      "source": [
        "_Number of Open Accounts_"
      ]
    },
    {
      "cell_type": "code",
      "execution_count": 37,
      "metadata": {
        "id": "Ds-IBnTFQaW5",
        "outputId": "c1a25f34-9330-4a87-aebb-d9d95edb1ea7",
        "colab": {
          "base_uri": "https://localhost:8080/",
          "height": 435
        }
      },
      "outputs": [
        {
          "output_type": "stream",
          "name": "stdout",
          "text": [
            "count    10000.00000\n",
            "mean        11.14430\n",
            "std          4.89476\n",
            "min          1.00000\n",
            "25%          8.00000\n",
            "50%         10.00000\n",
            "75%         14.00000\n",
            "max         48.00000\n",
            "Name: Number of Open Accounts, dtype: float64\n"
          ]
        },
        {
          "output_type": "display_data",
          "data": {
            "text/plain": [
              "<Figure size 432x288 with 1 Axes>"
            ],
            "image/png": "[encoded data removed]"
          },
          "metadata": {
            "needs_background": "light"
          }
        }
      ],
      "source": [
        "FEATURE = 'Number of Open Accounts'\n",
        "present_feature(all_data,FEATURE)"
      ]
    },
    {
      "cell_type": "code",
      "execution_count": 38,
      "metadata": {
        "id": "Nr9Ds-BzQaW5"
      },
      "outputs": [],
      "source": [
        "data_train.loc[data_train[FEATURE] > 35,  FEATURE] = all_data[FEATURE].median()\n",
        "data_test.loc[data_test[FEATURE] > 35, FEATURE] = all_data[FEATURE].median()"
      ]
    },
    {
      "cell_type": "markdown",
      "metadata": {
        "id": "05KbMQ1kQaW5"
      },
      "source": [
        "_Years of Credit History_"
      ]
    },
    {
      "cell_type": "code",
      "execution_count": 39,
      "metadata": {
        "id": "rNQ1FqR1QaW6",
        "outputId": "7deeb7c3-0408-4e16-ecd5-6f510a391220",
        "colab": {
          "base_uri": "https://localhost:8080/",
          "height": 435
        }
      },
      "outputs": [
        {
          "output_type": "stream",
          "name": "stdout",
          "text": [
            "count    10000.000000\n",
            "mean        18.319580\n",
            "std          7.095357\n",
            "min          3.900000\n",
            "25%         13.500000\n",
            "50%         17.000000\n",
            "75%         22.000000\n",
            "max         57.700000\n",
            "Name: Years of Credit History, dtype: float64\n"
          ]
        },
        {
          "output_type": "display_data",
          "data": {
            "text/plain": [
              "<Figure size 432x288 with 1 Axes>"
            ],
            "image/png": "[encoded data removed]"
          },
          "metadata": {
            "needs_background": "light"
          }
        }
      ],
      "source": [
        "FEATURE = 'Years of Credit History'\n",
        "present_feature(all_data,FEATURE)"
      ]
    },
    {
      "cell_type": "code",
      "execution_count": 40,
      "metadata": {
        "id": "AiL_ve71QaW6"
      },
      "outputs": [],
      "source": [
        "data_train.loc[data_train[FEATURE] > 50,  FEATURE] = all_data[FEATURE].median()\n",
        "data_test.loc[data_test[FEATURE] > 50, FEATURE] = all_data[FEATURE].median()"
      ]
    },
    {
      "cell_type": "markdown",
      "metadata": {
        "id": "VQhhoJf_QaW6"
      },
      "source": [
        "_Maximum Open Credit_"
      ]
    },
    {
      "cell_type": "code",
      "execution_count": 41,
      "metadata": {
        "id": "NImdzNi3QaW6",
        "outputId": "dfd616c0-d96e-4aad-fedc-e497289a006f",
        "colab": {
          "base_uri": "https://localhost:8080/",
          "height": 435
        }
      },
      "outputs": [
        {
          "output_type": "stream",
          "name": "stdout",
          "text": [
            "count    1.000000e+04\n",
            "mean     8.865079e+05\n",
            "std      1.389982e+07\n",
            "min      0.000000e+00\n",
            "25%      2.788115e+05\n",
            "50%      4.781810e+05\n",
            "75%      7.943595e+05\n",
            "max      1.304726e+09\n",
            "Name: Maximum Open Credit, dtype: float64\n"
          ]
        },
        {
          "output_type": "display_data",
          "data": {
            "text/plain": [
              "<Figure size 432x288 with 1 Axes>"
            ],
            "image/png": "[encoded data removed]"
          },
          "metadata": {
            "needs_background": "light"
          }
        }
      ],
      "source": [
        "FEATURE = 'Maximum Open Credit'\n",
        "present_feature(all_data,FEATURE)"
      ]
    },
    {
      "cell_type": "code",
      "execution_count": 42,
      "metadata": {
        "id": "lO5h81IgQaW6",
        "outputId": "489aa214-da55-4a62-ea21-32ccb66fc4bc",
        "colab": {
          "base_uri": "https://localhost:8080/"
        }
      },
      "outputs": [
        {
          "output_type": "execute_result",
          "data": {
            "text/plain": [
              "90"
            ]
          },
          "metadata": {},
          "execution_count": 42
        }
      ],
      "source": [
        "all_data.loc[ ((all_data[FEATURE] > 2e7) | (all_data[FEATURE] == 0)), FEATURE].count()"
      ]
    },
    {
      "cell_type": "code",
      "execution_count": 43,
      "metadata": {
        "id": "Gjd4K2QlQaW7"
      },
      "outputs": [],
      "source": [
        "data_train.loc[(data_train[FEATURE] > 2e7) | (data_train[FEATURE] == 0),FEATURE] = all_data[FEATURE].median()\n",
        "data_test.loc[(data_test[FEATURE] > 2e7) | (data_test[FEATURE] == 0),FEATURE] = all_data[FEATURE].median()\n"
      ]
    },
    {
      "cell_type": "markdown",
      "metadata": {
        "id": "XKseNpYAQaW7"
      },
      "source": [
        "_Number of Credit Problems_"
      ]
    },
    {
      "cell_type": "code",
      "execution_count": 44,
      "metadata": {
        "id": "2J-Ot0SEQaW7",
        "outputId": "d13196ef-3bfa-4635-9608-87c3b134e727",
        "colab": {
          "base_uri": "https://localhost:8080/",
          "height": 435
        }
      },
      "outputs": [
        {
          "output_type": "stream",
          "name": "stdout",
          "text": [
            "count    10000.00000\n",
            "mean         0.16800\n",
            "std          0.51459\n",
            "min          0.00000\n",
            "25%          0.00000\n",
            "50%          0.00000\n",
            "75%          0.00000\n",
            "max         15.00000\n",
            "Name: Number of Credit Problems, dtype: float64\n"
          ]
        },
        {
          "output_type": "display_data",
          "data": {
            "text/plain": [
              "<Figure size 432x288 with 1 Axes>"
            ],
            "image/png": "[encoded data removed]"
          },
          "metadata": {
            "needs_background": "light"
          }
        }
      ],
      "source": [
        "FEATURE = 'Number of Credit Problems'\n",
        "present_feature(all_data,FEATURE)"
      ]
    },
    {
      "cell_type": "code",
      "execution_count": 45,
      "metadata": {
        "id": "GQp7ea76QaW7"
      },
      "outputs": [],
      "source": [
        "data_train.loc[data_train[FEATURE] > 7,FEATURE] = all_data[FEATURE].median()\n",
        "data_test.loc[data_test[FEATURE] > 7,FEATURE] = all_data[FEATURE].median()"
      ]
    },
    {
      "cell_type": "markdown",
      "metadata": {
        "id": "_ZntDgodQaW8"
      },
      "source": [
        "_Months since last delinquent_"
      ]
    },
    {
      "cell_type": "code",
      "execution_count": 46,
      "metadata": {
        "scrolled": true,
        "id": "F6aku1wwQaW8",
        "outputId": "00a6a1b9-0982-4610-f5f5-d4eeeef192cd",
        "colab": {
          "base_uri": "https://localhost:8080/",
          "height": 435
        }
      },
      "outputs": [
        {
          "output_type": "stream",
          "name": "stdout",
          "text": [
            "count    4561.000000\n",
            "mean       34.564569\n",
            "std        21.771990\n",
            "min         0.000000\n",
            "25%        16.000000\n",
            "50%        32.000000\n",
            "75%        50.000000\n",
            "max       118.000000\n",
            "Name: Months since last delinquent, dtype: float64\n"
          ]
        },
        {
          "output_type": "display_data",
          "data": {
            "text/plain": [
              "<Figure size 432x288 with 1 Axes>"
            ],
            "image/png": "[encoded data removed]"
          },
          "metadata": {
            "needs_background": "light"
          }
        }
      ],
      "source": [
        "FEATURE = 'Months since last delinquent'\n",
        "present_feature(all_data,FEATURE)"
      ]
    },
    {
      "cell_type": "markdown",
      "metadata": {
        "id": "1ByUk0QfQaW8"
      },
      "source": [
        "data_train.loc[data_train[FEATURE] > 100,FEATURE] = all_data[FEATURE].median()\n",
        "data_test.loc[data_test[FEATURE] > 100,FEATURE] = all_data[FEATURE].median()"
      ]
    },
    {
      "cell_type": "markdown",
      "metadata": {
        "id": "WhM1WIpPQaW8"
      },
      "source": [
        "_Bankruptcies_"
      ]
    },
    {
      "cell_type": "code",
      "execution_count": 47,
      "metadata": {
        "id": "GWZq1btsQaW8",
        "outputId": "c4a90cee-d73d-4205-9cc8-210d6a822a72",
        "colab": {
          "base_uri": "https://localhost:8080/"
        }
      },
      "outputs": [
        {
          "output_type": "execute_result",
          "data": {
            "text/plain": [
              "2"
            ]
          },
          "metadata": {},
          "execution_count": 47
        }
      ],
      "source": [
        "FEATURE = 'Bankruptcies'\n",
        "all_data.loc[all_data[FEATURE] > 4,FEATURE].count()"
      ]
    },
    {
      "cell_type": "markdown",
      "metadata": {
        "id": "NctB9LI4QaW9"
      },
      "source": [
        "_Purpose_"
      ]
    },
    {
      "cell_type": "code",
      "execution_count": 48,
      "metadata": {
        "id": "0PK9YTHtQaW9",
        "outputId": "9f4b5b84-4b51-4919-fcf3-3e2ac8d51ab5",
        "colab": {
          "base_uri": "https://localhost:8080/"
        }
      },
      "outputs": [
        {
          "output_type": "stream",
          "name": "stdout",
          "text": [
            "count                  10000\n",
            "unique                    15\n",
            "top       debt consolidation\n",
            "freq                    7917\n",
            "Name: Purpose, dtype: object\n",
            "--------------------\n",
            "business loan            159\n",
            "buy a car                130\n",
            "buy house                 53\n",
            "debt consolidation      7917\n",
            "educational expenses      13\n",
            "home improvements        552\n",
            "major purchase            49\n",
            "medical bills             98\n",
            "moving                    12\n",
            "other                    905\n",
            "renewable energy           2\n",
            "small business            31\n",
            "take a trip               51\n",
            "vacation                  11\n",
            "wedding                   17\n",
            "dtype: int64\n"
          ]
        }
      ],
      "source": [
        "FEATURE = 'Purpose'\n",
        "present_categorical_feature(all_data,FEATURE)"
      ]
    },
    {
      "cell_type": "markdown",
      "metadata": {
        "id": "UyOjk_v2QaW9"
      },
      "source": [
        "_Term_"
      ]
    },
    {
      "cell_type": "code",
      "execution_count": 49,
      "metadata": {
        "id": "OqDa47jkQaW9",
        "outputId": "199ba337-6c3c-40b5-fcff-a8b6ff278f6e",
        "colab": {
          "base_uri": "https://localhost:8080/"
        }
      },
      "outputs": [
        {
          "output_type": "stream",
          "name": "stdout",
          "text": [
            "count          10000\n",
            "unique             2\n",
            "top       Short Term\n",
            "freq            7417\n",
            "Name: Term, dtype: object\n",
            "--------------------\n",
            "Long Term     2583\n",
            "Short Term    7417\n",
            "dtype: int64\n"
          ]
        }
      ],
      "source": [
        "FEATURE = 'Term'\n",
        "present_categorical_feature(all_data,FEATURE)"
      ]
    },
    {
      "cell_type": "markdown",
      "metadata": {
        "id": "ATzrlfToQaW-"
      },
      "source": [
        "_Current Loan Amount_"
      ]
    },
    {
      "cell_type": "code",
      "execution_count": 50,
      "metadata": {
        "id": "DGMvRPuRQaW-"
      },
      "outputs": [],
      "source": [
        "FEATURE = 'Current Loan Amount'"
      ]
    },
    {
      "cell_type": "code",
      "execution_count": 51,
      "metadata": {
        "id": "DbyCncxQQaW-",
        "outputId": "be7b09e1-567f-4e3e-c71d-7cdfefcd58d1",
        "colab": {
          "base_uri": "https://localhost:8080/"
        }
      },
      "outputs": [
        {
          "output_type": "execute_result",
          "data": {
            "text/plain": [
              "1167"
            ]
          },
          "metadata": {},
          "execution_count": 51
        }
      ],
      "source": [
        "all_data.loc[all_data[FEATURE] > 1e6, FEATURE].count() "
      ]
    },
    {
      "cell_type": "code",
      "execution_count": 52,
      "metadata": {
        "id": "hMU5wp3NQaW_",
        "outputId": "737738b7-cb1f-406c-ba4e-1c8708186f51",
        "colab": {
          "base_uri": "https://localhost:8080/",
          "height": 296
        }
      },
      "outputs": [
        {
          "output_type": "execute_result",
          "data": {
            "text/plain": [
              "<matplotlib.axes._subplots.AxesSubplot at 0x7f2f8c6d1bd0>"
            ]
          },
          "metadata": {},
          "execution_count": 52
        },
        {
          "output_type": "display_data",
          "data": {
            "text/plain": [
              "<Figure size 432x288 with 1 Axes>"
            ],
            "image/png": "[encoded data removed]"
          },
          "metadata": {
            "needs_background": "light"
          }
        }
      ],
      "source": [
        "sns.scatterplot(data_train[FEATURE],data_train[TARGET_NAME])"
      ]
    },
    {
      "cell_type": "code",
      "execution_count": 53,
      "metadata": {
        "id": "PeoaAPUiQaW_"
      },
      "outputs": [],
      "source": [
        "data_train[HELPER_FEATURE] = data_train[FEATURE].apply(lambda x: 0 if x > 1e6 else 1)\n",
        "data_test[HELPER_FEATURE] = data_test[FEATURE].apply(lambda x: 0 if  x > 1e6 else 1)"
      ]
    },
    {
      "cell_type": "markdown",
      "metadata": {
        "id": "p0RRu6YeQaW_"
      },
      "source": [
        "_Current Credit Balance_"
      ]
    },
    {
      "cell_type": "code",
      "execution_count": 54,
      "metadata": {
        "id": "KmUDDb4dQaXA",
        "outputId": "c827da8a-6bc0-4ef5-b5c1-17ff44eef0e0",
        "colab": {
          "base_uri": "https://localhost:8080/",
          "height": 435
        }
      },
      "outputs": [
        {
          "output_type": "stream",
          "name": "stdout",
          "text": [
            "count    1.000000e+04\n",
            "mean     2.914741e+05\n",
            "std      3.339979e+05\n",
            "min      0.000000e+00\n",
            "25%      1.132258e+05\n",
            "50%      2.090190e+05\n",
            "75%      3.619500e+05\n",
            "max      6.506797e+06\n",
            "Name: Current Credit Balance, dtype: float64\n"
          ]
        },
        {
          "output_type": "display_data",
          "data": {
            "text/plain": [
              "<Figure size 432x288 with 1 Axes>"
            ],
            "image/png": "[encoded data removed]"
          },
          "metadata": {
            "needs_background": "light"
          }
        }
      ],
      "source": [
        "FEATURE = 'Current Credit Balance'\n",
        "present_feature(all_data,FEATURE)\n"
      ]
    },
    {
      "cell_type": "code",
      "execution_count": 55,
      "metadata": {
        "id": "Azmdg9r8QaXA"
      },
      "outputs": [],
      "source": [
        "data_train.loc[data_train[FEATURE] > 5e6,FEATURE] = all_data[FEATURE].median()\n",
        "data_test.loc[data_test[FEATURE] > 5e6,FEATURE] = all_data[FEATURE].median()"
      ]
    },
    {
      "cell_type": "markdown",
      "metadata": {
        "id": "0p_mppCmQaXA"
      },
      "source": [
        "_Monthly Debt_"
      ]
    },
    {
      "cell_type": "code",
      "execution_count": 56,
      "metadata": {
        "id": "d3gPPJY4QaXA",
        "outputId": "4355f262-7df5-4889-a306-e30dce740cbd",
        "colab": {
          "base_uri": "https://localhost:8080/",
          "height": 435
        }
      },
      "outputs": [
        {
          "output_type": "stream",
          "name": "stdout",
          "text": [
            "count     10000.000000\n",
            "mean      18303.675600\n",
            "std       11831.647516\n",
            "min           0.000000\n",
            "25%       10059.750000\n",
            "50%       16200.000000\n",
            "75%       23888.250000\n",
            "max      136679.000000\n",
            "Name: Monthly Debt, dtype: float64\n"
          ]
        },
        {
          "output_type": "display_data",
          "data": {
            "text/plain": [
              "<Figure size 432x288 with 1 Axes>"
            ],
            "image/png": "[encoded data removed]"
          },
          "metadata": {
            "needs_background": "light"
          }
        }
      ],
      "source": [
        "FEATURE = 'Monthly Debt'\n",
        "present_feature(all_data,FEATURE)"
      ]
    },
    {
      "cell_type": "code",
      "execution_count": 57,
      "metadata": {
        "id": "8wfMoJwzQaXB"
      },
      "outputs": [],
      "source": [
        "data_train.loc[data_train[FEATURE] > 1e5,FEATURE] = all_data[FEATURE].median()\n",
        "data_test.loc[data_test[FEATURE] > 5e5,FEATURE] = all_data[FEATURE].median()"
      ]
    },
    {
      "cell_type": "markdown",
      "metadata": {
        "id": "As_eTmJRQaXB"
      },
      "source": [
        "_Credit Score_\n"
      ]
    },
    {
      "cell_type": "code",
      "execution_count": 58,
      "metadata": {
        "id": "FdnKh9_aQaXB",
        "outputId": "313dad27-7f9d-4391-8990-687ed53939e3",
        "colab": {
          "base_uri": "https://localhost:8080/",
          "height": 435
        }
      },
      "outputs": [
        {
          "output_type": "stream",
          "name": "stdout",
          "text": [
            "count    7930.000000\n",
            "mean     1171.992182\n",
            "std      1639.812951\n",
            "min       585.000000\n",
            "25%       711.000000\n",
            "50%       731.000000\n",
            "75%       743.000000\n",
            "max      7510.000000\n",
            "Name: Credit Score, dtype: float64\n"
          ]
        },
        {
          "output_type": "display_data",
          "data": {
            "text/plain": [
              "<Figure size 432x288 with 1 Axes>"
            ],
            "image/png": "[encoded data removed]"
          },
          "metadata": {
            "needs_background": "light"
          }
        }
      ],
      "source": [
        "FEATURE = 'Credit Score'\n",
        "present_feature(all_data,FEATURE)"
      ]
    },
    {
      "cell_type": "code",
      "execution_count": 59,
      "metadata": {
        "id": "P2kO0baAQaXB",
        "outputId": "9756abf5-1427-49de-9eac-354bb1ca6e97",
        "colab": {
          "base_uri": "https://localhost:8080/"
        }
      },
      "outputs": [
        {
          "output_type": "execute_result",
          "data": {
            "text/plain": [
              "560"
            ]
          },
          "metadata": {},
          "execution_count": 59
        }
      ],
      "source": [
        "all_data.loc[all_data[FEATURE] > 1000, FEATURE].count()"
      ]
    },
    {
      "cell_type": "code",
      "execution_count": 60,
      "metadata": {
        "id": "MYJf1vaGQaXB",
        "outputId": "63a83cff-7189-49b6-e981-ebd93669881d",
        "colab": {
          "base_uri": "https://localhost:8080/",
          "height": 296
        }
      },
      "outputs": [
        {
          "output_type": "execute_result",
          "data": {
            "text/plain": [
              "<matplotlib.axes._subplots.AxesSubplot at 0x7f2f8c5220d0>"
            ]
          },
          "metadata": {},
          "execution_count": 60
        },
        {
          "output_type": "display_data",
          "data": {
            "text/plain": [
              "<Figure size 432x288 with 1 Axes>"
            ],
            "image/png": "[encoded data removed]"
          },
          "metadata": {
            "needs_background": "light"
          }
        }
      ],
      "source": [
        "sns.scatterplot(data_train[FEATURE],data_train[TARGET_NAME])"
      ]
    },
    {
      "cell_type": "code",
      "execution_count": 61,
      "metadata": {
        "id": "7jRmnMgAQaXC"
      },
      "outputs": [],
      "source": [
        "data_train.loc[data_train[HELPER_FEATURE] == 1, HELPER_FEATURE] = data_train.loc[data_train[HELPER_FEATURE] == 1,FEATURE].apply(lambda x: 0 if x < 5000 else 1)\n",
        "data_test.loc[data_test[HELPER_FEATURE] == 1, HELPER_FEATURE] = data_test.loc[data_test[HELPER_FEATURE] == 1,FEATURE].apply(lambda x: 0 if x < 5000 else 1)"
      ]
    },
    {
      "cell_type": "code",
      "execution_count": 62,
      "metadata": {
        "id": "K45epcOJQaXC",
        "outputId": "6fb50b04-a354-4b10-ca58-67baa49c28f6",
        "colab": {
          "base_uri": "https://localhost:8080/"
        }
      },
      "outputs": [
        {
          "output_type": "execute_result",
          "data": {
            "text/plain": [
              "Home Ownership                  4359\n",
              "Annual Income                   4359\n",
              "Years in current job            4164\n",
              "Tax Liens                       4359\n",
              "Number of Open Accounts         4359\n",
              "Years of Credit History         4359\n",
              "Maximum Open Credit             4359\n",
              "Number of Credit Problems       4359\n",
              "Months since last delinquent    2003\n",
              "Bankruptcies                    4351\n",
              "Purpose                         4359\n",
              "Term                            4359\n",
              "Current Loan Amount             4359\n",
              "Current Credit Balance          4359\n",
              "Monthly Debt                    4359\n",
              "Credit Score                    4359\n",
              "Credit Default                  4359\n",
              "exactly delay                   4359\n",
              "dtype: int64"
            ]
          },
          "metadata": {},
          "execution_count": 62
        }
      ],
      "source": [
        "data_train.loc[(data_train[HELPER_FEATURE] ==  0)& (data_train[TARGET_NAME] ==  0)].count()"
      ]
    },
    {
      "cell_type": "markdown",
      "metadata": {
        "id": "sWuDCu7pQaXC"
      },
      "source": [
        "__3. Обработка пропусков__<a class=\"anchor\" id=\"fix_pass\"></a>"
      ]
    },
    {
      "cell_type": "code",
      "execution_count": 63,
      "metadata": {
        "id": "ZV-3r-GxQaXC"
      },
      "outputs": [],
      "source": [
        "all_data = build_all_data()"
      ]
    },
    {
      "cell_type": "code",
      "execution_count": 64,
      "metadata": {
        "id": "elssW30xQaXC",
        "outputId": "86105e02-1881-4db3-c074-50c2f6e7e5e1",
        "colab": {
          "base_uri": "https://localhost:8080/"
        }
      },
      "outputs": [
        {
          "output_type": "stream",
          "name": "stdout",
          "text": [
            "Annual Income:  7930\n",
            "Years in current job:  9543\n",
            "Months since last delinquent:  4561\n",
            "Bankruptcies:  9983\n",
            "Credit Score:  7930\n"
          ]
        }
      ],
      "source": [
        "pass_list = set() # Сюда попадут все признаки по которым есть пропуски\n",
        "for feature in all_data:\n",
        "    if all_data[feature].count() != all_data.shape[0]:\n",
        "        pass_list.add(feature)\n",
        "        print(f'{feature}:  {all_data[feature].count()}')"
      ]
    },
    {
      "cell_type": "code",
      "execution_count": 65,
      "metadata": {
        "id": "137fSjzUQaXD",
        "outputId": "b82bca55-bf51-4088-ea43-0e295f394204",
        "colab": {
          "base_uri": "https://localhost:8080/"
        }
      },
      "outputs": [
        {
          "output_type": "execute_result",
          "data": {
            "text/plain": [
              "{'Annual Income',\n",
              " 'Bankruptcies',\n",
              " 'Credit Score',\n",
              " 'Months since last delinquent',\n",
              " 'Years in current job'}"
            ]
          },
          "metadata": {},
          "execution_count": 65
        }
      ],
      "source": [
        "pass_list"
      ]
    },
    {
      "cell_type": "code",
      "execution_count": 66,
      "metadata": {
        "id": "yBvoPaynQaXD"
      },
      "outputs": [],
      "source": [
        "for feature in pass_list:\n",
        "    if  not all_data[feature].dtype == np.object:\n",
        "        data_filter_1 = (data_train[feature].isna()) |  (data_train[feature].isnull())\n",
        "        data_filter_2 = (data_test[feature].isna()) | (data_test[feature].isnull())\n",
        "        data_train.loc[data_filter_1,feature] = all_data[feature].mean()\n",
        "        data_test.loc[data_filter_2,feature] = all_data[feature].mean()   \n",
        "    else:\n",
        "        data_train[feature].fillna(all_data[feature].mode()[0], inplace=True)\n",
        "        data_test[feature].fillna(all_data[feature].mode()[0], inplace=True)\n",
        "\n",
        "        "
      ]
    },
    {
      "cell_type": "markdown",
      "metadata": {
        "id": "WlVtuiPYQaXD"
      },
      "source": [
        "__4. Анализ данных__<a class=\"anchor\" id=\"data_analysis\"></a>"
      ]
    },
    {
      "cell_type": "code",
      "execution_count": null,
      "metadata": {
        "id": "BnGxTfXhQaXD"
      },
      "outputs": [],
      "source": [
        "all_data = build_all_data() #актуализируем данные во вспомогательном наборе"
      ]
    },
    {
      "cell_type": "markdown",
      "metadata": {
        "id": "s0_RJXgnQaXD"
      },
      "source": [
        "_Home Ownership_"
      ]
    },
    {
      "cell_type": "code",
      "execution_count": null,
      "metadata": {
        "id": "-wVEzt4TQaXE",
        "outputId": "e7cbbd92-3ca5-438e-b585-47fc6bee19f8"
      },
      "outputs": [
        {
          "data": {
            "text/plain": [
              "Have Mortgage      19\n",
              "Home Mortgage    4862\n",
              "Own Home          895\n",
              "Rent             4224\n",
              "dtype: int64"
            ]
          },
          "execution_count": 62,
          "metadata": {},
          "output_type": "execute_result"
        }
      ],
      "source": [
        "FEATURE = 'Home Ownership'\n",
        "pd.get_dummies(all_data[FEATURE]).sum()"
      ]
    },
    {
      "cell_type": "markdown",
      "metadata": {
        "id": "j3GVZdFfQaXE"
      },
      "source": [
        "_Annual Income_"
      ]
    },
    {
      "cell_type": "code",
      "execution_count": 67,
      "metadata": {
        "id": "uiHpIg_MQaXE",
        "outputId": "d7da3b9f-45f4-4628-d961-319f6ed77322",
        "colab": {
          "base_uri": "https://localhost:8080/",
          "height": 295
        }
      },
      "outputs": [
        {
          "output_type": "execute_result",
          "data": {
            "text/plain": [
              "<matplotlib.axes._subplots.AxesSubplot at 0x7f2f8c722710>"
            ]
          },
          "metadata": {},
          "execution_count": 67
        },
        {
          "output_type": "display_data",
          "data": {
            "text/plain": [
              "<Figure size 432x288 with 1 Axes>"
            ],
            "image/png": "[encoded data removed]"
          },
          "metadata": {
            "needs_background": "light"
          }
        }
      ],
      "source": [
        "FEATURE = 'Annual Income'\n",
        "all_data['Annual Income'].hist()"
      ]
    },
    {
      "cell_type": "markdown",
      "metadata": {
        "id": "HrPoMVw0QaXE"
      },
      "source": [
        "_Years in current job_"
      ]
    },
    {
      "cell_type": "code",
      "execution_count": 68,
      "metadata": {
        "id": "XSogGDNwQaXE",
        "outputId": "8ba40262-a32a-45cb-d14a-8616808ec2a1",
        "colab": {
          "base_uri": "https://localhost:8080/"
        }
      },
      "outputs": [
        {
          "output_type": "execute_result",
          "data": {
            "text/plain": [
              "1 year        657\n",
              "10+ years    3142\n",
              "2 years       917\n",
              "3 years       848\n",
              "4 years       621\n",
              "5 years       685\n",
              "6 years       563\n",
              "7 years       536\n",
              "8 years       446\n",
              "9 years       358\n",
              "< 1 year      770\n",
              "dtype: int64"
            ]
          },
          "metadata": {},
          "execution_count": 68
        }
      ],
      "source": [
        "FEATURE = 'Years in current job' \n",
        "pd.get_dummies(all_data[FEATURE]).sum()"
      ]
    },
    {
      "cell_type": "code",
      "execution_count": 69,
      "metadata": {
        "id": "SjFJNrmKQaXF"
      },
      "outputs": [],
      "source": [
        "cat_text_to_number(all_data, data_train, FEATURE)\n",
        "cat_text_to_number(all_data, data_test, FEATURE)"
      ]
    },
    {
      "cell_type": "markdown",
      "metadata": {
        "id": "_zJF3YZiQaXF"
      },
      "source": [
        "make_dummy(data_train, FEATURE)\n",
        "make_dummy(data_test, FEATURE)"
      ]
    },
    {
      "cell_type": "markdown",
      "metadata": {
        "id": "sID4BL3HQaXF"
      },
      "source": [
        "_Tax Liens_"
      ]
    },
    {
      "cell_type": "code",
      "execution_count": 70,
      "metadata": {
        "id": "WvoV3yRMQaXF",
        "outputId": "0cc8fc8c-190e-45f4-d130-88cc25096b2f",
        "colab": {
          "base_uri": "https://localhost:8080/",
          "height": 282
        }
      },
      "outputs": [
        {
          "output_type": "execute_result",
          "data": {
            "text/plain": [
              "<matplotlib.axes._subplots.AxesSubplot at 0x7f2f8c857f10>"
            ]
          },
          "metadata": {},
          "execution_count": 70
        },
        {
          "output_type": "display_data",
          "data": {
            "text/plain": [
              "<Figure size 432x288 with 1 Axes>"
            ],
            "image/png": "[encoded data removed]"
          },
          "metadata": {
            "needs_background": "light"
          }
        }
      ],
      "source": [
        "FEATURE = 'Tax Liens' \n",
        "all_data[FEATURE].hist()"
      ]
    },
    {
      "cell_type": "markdown",
      "metadata": {
        "id": "pFO7yjV_QaXF"
      },
      "source": [
        "_Number of Open Accounts_"
      ]
    },
    {
      "cell_type": "code",
      "execution_count": 71,
      "metadata": {
        "id": "ifVOMLVHQaXG",
        "outputId": "1c8d0600-4a8c-440f-8640-3c1c20491290",
        "colab": {
          "base_uri": "https://localhost:8080/",
          "height": 282
        }
      },
      "outputs": [
        {
          "output_type": "execute_result",
          "data": {
            "text/plain": [
              "<matplotlib.axes._subplots.AxesSubplot at 0x7f2f8c97a5d0>"
            ]
          },
          "metadata": {},
          "execution_count": 71
        },
        {
          "output_type": "display_data",
          "data": {
            "text/plain": [
              "<Figure size 432x288 with 1 Axes>"
            ],
            "image/png": "[encoded data removed]"
          },
          "metadata": {
            "needs_background": "light"
          }
        }
      ],
      "source": [
        "FEATURE = 'Number of Open Accounts' \n",
        "all_data[FEATURE].hist()\n"
      ]
    },
    {
      "cell_type": "markdown",
      "metadata": {
        "id": "O_vbNkWdQaXG"
      },
      "source": [
        "_Years of Credit History_"
      ]
    },
    {
      "cell_type": "code",
      "execution_count": 72,
      "metadata": {
        "id": "Rxa2sFM7QaXG",
        "outputId": "a8acafa0-0507-4e2a-fd4a-d84ec9b20081",
        "colab": {
          "base_uri": "https://localhost:8080/",
          "height": 513
        }
      },
      "outputs": [
        {
          "output_type": "display_data",
          "data": {
            "text/plain": [
              "<Figure size 1152x576 with 1 Axes>"
            ],
            "image/png": "[encoded data removed]"
          },
          "metadata": {
            "needs_background": "light"
          }
        }
      ],
      "source": [
        "FEATURE = 'Years of Credit History' \n",
        "ShowDistribution(all_data, FEATURE, 1e-2, 0.8e-1)"
      ]
    },
    {
      "cell_type": "markdown",
      "metadata": {
        "id": "IDnwJhWcQaXG"
      },
      "source": [
        "_Maximum Open Credit_"
      ]
    },
    {
      "cell_type": "code",
      "execution_count": 73,
      "metadata": {
        "id": "ID3JySVoQaXG",
        "outputId": "3e851d5d-3118-4cc3-ac1a-59f70694c2ca",
        "colab": {
          "base_uri": "https://localhost:8080/",
          "height": 513
        }
      },
      "outputs": [
        {
          "output_type": "display_data",
          "data": {
            "text/plain": [
              "<Figure size 1152x576 with 1 Axes>"
            ],
            "image/png": "[encoded data removed]"
          },
          "metadata": {
            "needs_background": "light"
          }
        }
      ],
      "source": [
        "FEATURE = 'Maximum Open Credit' \n",
        "ShowDistribution(all_data, FEATURE, 1e-6, 1.2e-6)"
      ]
    },
    {
      "cell_type": "markdown",
      "metadata": {
        "id": "5b-fZ28PQaXH"
      },
      "source": [
        "_Number of Credit Problems_"
      ]
    },
    {
      "cell_type": "code",
      "execution_count": 74,
      "metadata": {
        "id": "_WeSv2StQaXH",
        "outputId": "bfe45389-c4b7-4962-fdbf-0bbde99ff6e5",
        "colab": {
          "base_uri": "https://localhost:8080/",
          "height": 282
        }
      },
      "outputs": [
        {
          "output_type": "execute_result",
          "data": {
            "text/plain": [
              "<matplotlib.axes._subplots.AxesSubplot at 0x7f2f8c543e90>"
            ]
          },
          "metadata": {},
          "execution_count": 74
        },
        {
          "output_type": "display_data",
          "data": {
            "text/plain": [
              "<Figure size 432x288 with 1 Axes>"
            ],
            "image/png": "[encoded data removed]"
          },
          "metadata": {
            "needs_background": "light"
          }
        }
      ],
      "source": [
        "FEATURE = 'Number of Credit Problems' \n",
        "all_data.loc[all_data[FEATURE]>1,FEATURE].hist()"
      ]
    },
    {
      "cell_type": "code",
      "execution_count": null,
      "metadata": {
        "id": "-XHmUsdZQaXH"
      },
      "outputs": [],
      "source": [
        ""
      ]
    },
    {
      "cell_type": "markdown",
      "metadata": {
        "id": "1XjW7i7zQaXH"
      },
      "source": [
        "_Months since last delinquent_"
      ]
    },
    {
      "cell_type": "code",
      "execution_count": 75,
      "metadata": {
        "id": "i6mEdVHZQaXH",
        "outputId": "0763bb2d-b303-4bca-b37d-9d379d3c135a",
        "colab": {
          "base_uri": "https://localhost:8080/",
          "height": 286
        }
      },
      "outputs": [
        {
          "output_type": "execute_result",
          "data": {
            "text/plain": [
              "<matplotlib.axes._subplots.AxesSubplot at 0x7f2f8c430310>"
            ]
          },
          "metadata": {},
          "execution_count": 75
        },
        {
          "output_type": "display_data",
          "data": {
            "text/plain": [
              "<Figure size 432x288 with 1 Axes>"
            ],
            "image/png": "[encoded data removed]"
          },
          "metadata": {
            "needs_background": "light"
          }
        }
      ],
      "source": [
        "FEATURE = 'Months since last delinquent' \n",
        "all_data[FEATURE].hist()"
      ]
    },
    {
      "cell_type": "markdown",
      "metadata": {
        "id": "AFgWSDwPQaXI"
      },
      "source": [
        "_Bankruptcies_"
      ]
    },
    {
      "cell_type": "code",
      "execution_count": 78,
      "metadata": {
        "id": "cqmcBzhcQaXI",
        "outputId": "ccb6fbfe-8d93-4835-8be3-b46fd68538b4",
        "colab": {
          "base_uri": "https://localhost:8080/",
          "height": 282
        }
      },
      "outputs": [
        {
          "output_type": "execute_result",
          "data": {
            "text/plain": [
              "<matplotlib.axes._subplots.AxesSubplot at 0x7f2f8c34eb90>"
            ]
          },
          "metadata": {},
          "execution_count": 78
        },
        {
          "output_type": "display_data",
          "data": {
            "text/plain": [
              "<Figure size 432x288 with 1 Axes>"
            ],
            "image/png": "[encoded data removed]"
          },
          "metadata": {
            "needs_background": "light"
          }
        }
      ],
      "source": [
        "FEATURE = 'Bankruptcies' \n",
        "all_data.loc[all_data[FEATURE]>0,FEATURE].hist()"
      ]
    },
    {
      "cell_type": "markdown",
      "metadata": {
        "id": "mkniKOUeQaXI"
      },
      "source": [
        "_Purpose_\n"
      ]
    },
    {
      "cell_type": "code",
      "execution_count": 79,
      "metadata": {
        "id": "1SRmKpXIQaXI",
        "outputId": "33c2025c-7b5d-416c-fc12-2606627b8fdb",
        "colab": {
          "base_uri": "https://localhost:8080/"
        }
      },
      "outputs": [
        {
          "output_type": "execute_result",
          "data": {
            "text/plain": [
              "business loan            159\n",
              "buy a car                130\n",
              "buy house                 53\n",
              "debt consolidation      7917\n",
              "educational expenses      13\n",
              "home improvements        552\n",
              "major purchase            49\n",
              "medical bills             98\n",
              "moving                    12\n",
              "other                    905\n",
              "renewable energy           2\n",
              "small business            31\n",
              "take a trip               51\n",
              "vacation                  11\n",
              "wedding                   17\n",
              "dtype: int64"
            ]
          },
          "metadata": {},
          "execution_count": 79
        }
      ],
      "source": [
        "FEATURE = 'Purpose' \n",
        "pd.get_dummies(all_data[FEATURE]).sum()"
      ]
    },
    {
      "cell_type": "code",
      "execution_count": 80,
      "metadata": {
        "id": "tuN9EKfKQaXJ"
      },
      "outputs": [],
      "source": [
        "cat_text_to_number(all_data, data_train, FEATURE)\n",
        "cat_text_to_number(all_data, data_test, FEATURE)"
      ]
    },
    {
      "cell_type": "markdown",
      "metadata": {
        "id": "VHdk1BphQaXJ"
      },
      "source": [
        "_Term_"
      ]
    },
    {
      "cell_type": "code",
      "execution_count": 81,
      "metadata": {
        "id": "FDCEbuPqQaXJ",
        "outputId": "2997d352-2e39-49b7-f4a8-90d3f1a81e65",
        "colab": {
          "base_uri": "https://localhost:8080/"
        }
      },
      "outputs": [
        {
          "output_type": "execute_result",
          "data": {
            "text/plain": [
              "Long Term     2583\n",
              "Short Term    7417\n",
              "dtype: int64"
            ]
          },
          "metadata": {},
          "execution_count": 81
        }
      ],
      "source": [
        "FEATURE = 'Term' \n",
        "pd.get_dummies(all_data[FEATURE]).sum()"
      ]
    },
    {
      "cell_type": "code",
      "execution_count": 82,
      "metadata": {
        "id": "MmhuVFnUQaXJ"
      },
      "outputs": [],
      "source": [
        "cat_text_to_number(all_data, data_train, FEATURE)\n",
        "cat_text_to_number(all_data, data_test, FEATURE)"
      ]
    },
    {
      "cell_type": "markdown",
      "metadata": {
        "id": "zpbbAoqhQaXK"
      },
      "source": [
        "_Current Loan Amount_"
      ]
    },
    {
      "cell_type": "code",
      "execution_count": 83,
      "metadata": {
        "id": "hpYUBZlDQaXK",
        "outputId": "c6e370de-0a18-41f3-f30d-cf3454294b98",
        "colab": {
          "base_uri": "https://localhost:8080/",
          "height": 513
        }
      },
      "outputs": [
        {
          "output_type": "display_data",
          "data": {
            "text/plain": [
              "<Figure size 1152x576 with 1 Axes>"
            ],
            "image/png": "[encoded data removed]"
          },
          "metadata": {
            "needs_background": "light"
          }
        }
      ],
      "source": [
        "FEATURE = 'Current Loan Amount' \n",
        "ShowDistribution(all_data, FEATURE, 0.1e-6, 0.4e-6)"
      ]
    },
    {
      "cell_type": "markdown",
      "metadata": {
        "id": "MlR9tq8DQaXK"
      },
      "source": [
        "_Current Credit Balance_"
      ]
    },
    {
      "cell_type": "code",
      "execution_count": 84,
      "metadata": {
        "id": "5NqwKoJUQaXK",
        "outputId": "a19bb8ab-23fa-44aa-fe4e-1328b0528d72",
        "colab": {
          "base_uri": "https://localhost:8080/",
          "height": 513
        }
      },
      "outputs": [
        {
          "output_type": "display_data",
          "data": {
            "text/plain": [
              "<Figure size 1152x576 with 1 Axes>"
            ],
            "image/png": "[encoded data removed]"
          },
          "metadata": {
            "needs_background": "light"
          }
        }
      ],
      "source": [
        "FEATURE = 'Current Credit Balance' \n",
        "ShowDistribution(all_data, FEATURE, 1e-4, 0.27e-5)"
      ]
    },
    {
      "cell_type": "markdown",
      "metadata": {
        "id": "HjZYHYKzQaXL"
      },
      "source": [
        "_Monthly Debt_"
      ]
    },
    {
      "cell_type": "code",
      "execution_count": 85,
      "metadata": {
        "id": "GUrKAPe2QaXL",
        "outputId": "25aa71da-89d4-4688-c49b-b267718717df",
        "colab": {
          "base_uri": "https://localhost:8080/",
          "height": 286
        }
      },
      "outputs": [
        {
          "output_type": "execute_result",
          "data": {
            "text/plain": [
              "<matplotlib.axes._subplots.AxesSubplot at 0x7f2f8c8dd4d0>"
            ]
          },
          "metadata": {},
          "execution_count": 85
        },
        {
          "output_type": "display_data",
          "data": {
            "text/plain": [
              "<Figure size 432x288 with 1 Axes>"
            ],
            "image/png": "[encoded data removed]"
          },
          "metadata": {
            "needs_background": "light"
          }
        }
      ],
      "source": [
        "FEATURE = 'Monthly Debt' \n",
        "all_data[FEATURE].hist()"
      ]
    },
    {
      "cell_type": "markdown",
      "metadata": {
        "id": "md2HO_xHQaXL"
      },
      "source": [
        "_Credit Score_"
      ]
    },
    {
      "cell_type": "code",
      "execution_count": 86,
      "metadata": {
        "id": "2Cu-7GTdQaXL",
        "outputId": "c4bd1712-2b94-4789-bc77-62200ebc945f",
        "colab": {
          "base_uri": "https://localhost:8080/",
          "height": 282
        }
      },
      "outputs": [
        {
          "output_type": "execute_result",
          "data": {
            "text/plain": [
              "<matplotlib.axes._subplots.AxesSubplot at 0x7f2f8c273fd0>"
            ]
          },
          "metadata": {},
          "execution_count": 86
        },
        {
          "output_type": "display_data",
          "data": {
            "text/plain": [
              "<Figure size 432x288 with 1 Axes>"
            ],
            "image/png": "[encoded data removed]"
          },
          "metadata": {
            "needs_background": "light"
          }
        }
      ],
      "source": [
        "FEATURE = 'Credit Score'\n",
        "all_data[FEATURE].hist()"
      ]
    },
    {
      "cell_type": "markdown",
      "metadata": {
        "id": "ySDSg3KMQaXL"
      },
      "source": [
        "_Credit Default_"
      ]
    },
    {
      "cell_type": "code",
      "execution_count": 87,
      "metadata": {
        "id": "rBvpAcNJQaXL",
        "outputId": "d550a2ac-8d15-45c1-bf5d-882032295f07",
        "colab": {
          "base_uri": "https://localhost:8080/"
        }
      },
      "outputs": [
        {
          "output_type": "execute_result",
          "data": {
            "text/plain": [
              "0    5387\n",
              "1    2113\n",
              "Name: Credit Default, dtype: int64"
            ]
          },
          "metadata": {},
          "execution_count": 87
        }
      ],
      "source": [
        "data_train['Credit Default'].value_counts()"
      ]
    },
    {
      "cell_type": "markdown",
      "metadata": {
        "id": "kgc1MOWgQaXM"
      },
      "source": [
        "__5. Отбор признаков__<a class=\"anchor\" id=\"select_features\"></a>\n"
      ]
    },
    {
      "cell_type": "code",
      "execution_count": 88,
      "metadata": {
        "id": "iuZzcbV5QaXM"
      },
      "outputs": [],
      "source": [
        "all_data = build_all_data()"
      ]
    },
    {
      "cell_type": "code",
      "execution_count": 89,
      "metadata": {
        "id": "l6Y9NGHBQaXM"
      },
      "outputs": [],
      "source": [
        "BASE_FEATURE_NAMES = all_data.columns.tolist()\n",
        "NUM_FEATURE_NAMES = all_data.columns.drop(CAT_FEATURES).tolist()\n",
        "\n"
      ]
    },
    {
      "cell_type": "code",
      "execution_count": 90,
      "metadata": {
        "id": "7Ey6cPYyQaXM"
      },
      "outputs": [],
      "source": [
        "data_train.insert(0, 'ID', range(len(data_train)))"
      ]
    },
    {
      "cell_type": "code",
      "execution_count": 91,
      "metadata": {
        "id": "r_XWJml4QaXM",
        "outputId": "259262a2-c5eb-455b-e36b-0c6a68449bfa",
        "colab": {
          "base_uri": "https://localhost:8080/"
        }
      },
      "outputs": [
        {
          "output_type": "stream",
          "name": "stdout",
          "text": [
            "exactly delay 5.576540824669816e-108 (0, 1)\n",
            "Purpose 0.00317344339657794 (3, 11)\n",
            "Purpose 0.00021520390170564772 (3, 0)\n",
            "Purpose 0.008518639588496912 (9, 11)\n",
            "Purpose 0.0036646467408851567 (9, 0)\n",
            "Purpose 0.0023007381664402558 (5, 11)\n",
            "Purpose 0.000388811687909952 (5, 0)\n",
            "Purpose 0.004840424311614478 (1, 11)\n",
            "Purpose 0.006123555211802671 (1, 0)\n",
            "Purpose 0.009017021050631893 (11, 6)\n",
            "Term 1.1519373940439208e-55 (1, 0)\n"
          ]
        }
      ],
      "source": [
        "for feature in CAT_FEATURES:\n",
        "    for pair in combinations(data_train[feature].unique(),2):\n",
        "        p = test_feature(data_train,feature,pair, TARGET_NAME)\n",
        "        if p < 0.01:\n",
        "            print(feature,p,pair)\n"
      ]
    },
    {
      "cell_type": "code",
      "execution_count": 92,
      "metadata": {
        "id": "_SnJ_tB4QaXN"
      },
      "outputs": [],
      "source": [
        "data_train.loc[data_train['Purpose']== 3, 'Purpose'] = 0\n",
        "data_train.loc[data_train['Purpose']== 5, 'Purpose'] = 0\n",
        "data_train.loc[data_train['Purpose']== 11, 'Purpose'] = 0\n",
        "\n",
        "data_test.loc[data_train['Purpose']== 3, 'Purpose'] = 0\n",
        "data_test.loc[data_train['Purpose']== 5, 'Purpose'] = 0\n",
        "data_test.loc[data_train['Purpose']== 11, 'Purpose'] = 0\n",
        "\n",
        "\n",
        "\n"
      ]
    },
    {
      "cell_type": "code",
      "execution_count": 93,
      "metadata": {
        "id": "qPQV7GdSQaXN",
        "outputId": "f117b4b0-4495-4c7b-8fd1-91bfd585d321",
        "colab": {
          "base_uri": "https://localhost:8080/",
          "height": 1000
        }
      },
      "outputs": [
        {
          "output_type": "display_data",
          "data": {
            "text/plain": [
              "<Figure size 1800x1440 with 2 Axes>"
            ],
            "image/png": "[encoded data removed]"
          },
          "metadata": {
            "needs_background": "light"
          }
        }
      ],
      "source": [
        "plt.figure(figsize = (25,20))\n",
        "\n",
        "sns.set(font_scale=1.4)\n",
        "sns.heatmap(data_train[NUM_FEATURE_NAMES].corr().round(3), annot=True, linewidths=.5, cmap='GnBu')\n",
        "\n",
        "plt.title('Correlation matrix')\n",
        "plt.show()"
      ]
    },
    {
      "cell_type": "code",
      "execution_count": 93,
      "metadata": {
        "id": "hWm1kHPjQaXN"
      },
      "outputs": [],
      "source": [
        ""
      ]
    },
    {
      "cell_type": "code",
      "execution_count": 94,
      "metadata": {
        "id": "AwoqyYiqQaXN"
      },
      "outputs": [],
      "source": [
        "data_train['Home Ownership'] = data_train[FEATURE].apply(lambda x: 1.0 if x != 'Own Home' else 2.25) \n",
        "data_test['Home Ownership'] = data_test[FEATURE].apply(lambda x: 1.0 if x != 'Own Home' else 2.25) \n",
        "\n",
        "\n",
        "data_train['month_balance'] = (data_train['Annual Income']/12) - (data_train['Monthly Debt'] + data_train['Tax Liens']*1.5)*data_train['Home Ownership']\n",
        "data_test['month_balance'] = (data_test['Annual Income']/12) -(data_test['Monthly Debt'] + data_test['Tax Liens']*1.5)*data_test['Home Ownership']"
      ]
    },
    {
      "cell_type": "code",
      "execution_count": 95,
      "metadata": {
        "id": "4pOEAkSXQaXN"
      },
      "outputs": [],
      "source": [
        "feature = 'months_of_slavery_left'\n",
        "data_train[feature] = data_train['Current Credit Balance'] / (data_train['Monthly Debt']+1)\n",
        "data_test[feature] = data_test['Current Credit Balance'] / (data_test['Monthly Debt']+1)\n"
      ]
    },
    {
      "cell_type": "code",
      "execution_count": 96,
      "metadata": {
        "id": "OBqHa6VNQaXO"
      },
      "outputs": [],
      "source": [
        "data_train['rate_4'] = data_train['Number of Open Accounts']  - (data_train['Bankruptcies'] + data_train['Number of Credit Problems'])\n",
        "data_test['rate_4'] = data_test['Number of Open Accounts']  - (data_test['Bankruptcies'] + data_test['Number of Credit Problems'])"
      ]
    },
    {
      "cell_type": "code",
      "execution_count": 97,
      "metadata": {
        "id": "kY3MwVf-QaXO"
      },
      "outputs": [],
      "source": [
        "data_train['rate_5'] = (data_train['Bankruptcies']+data_train['Number of Credit Problems'])\n",
        "data_test['rate_5'] = (data_test['Bankruptcies']+data_test['Number of Credit Problems'])\n",
        "\n",
        "\n",
        "data_train['rate_5'] = data_train['rate_5'].apply(lambda x: 0 if x == 0 else 1)\n",
        "data_test['rate_5'] = data_test['rate_5'].apply(lambda x: 0 if x == 0 else 1)"
      ]
    },
    {
      "cell_type": "code",
      "execution_count": 98,
      "metadata": {
        "id": "6jUqusYvQaXO"
      },
      "outputs": [],
      "source": [
        "data_train['rate_6'] = (data_train['Months since last delinquent']/12)/data_train['Years of Credit History']\n",
        "data_test['rate_6'] = (data_test['Months since last delinquent']/12)/data_test['Years of Credit History']"
      ]
    },
    {
      "cell_type": "code",
      "execution_count": 99,
      "metadata": {
        "id": "3aZgLsueQaXO"
      },
      "outputs": [],
      "source": [
        "data_train['rate_7'] = data_train['Credit Score']*data_train['rate_6']\n",
        "data_test['rate_7'] = data_test['Credit Score']*data_test['rate_6']"
      ]
    },
    {
      "cell_type": "code",
      "execution_count": 100,
      "metadata": {
        "id": "SLUfy1AmQaXO"
      },
      "outputs": [],
      "source": [
        "scaler = StandardScaler()\n",
        "\n",
        "df_norm = data_train.copy()\n",
        "df_norm[NUM_FEATURE_NAMES] = scaler.fit_transform(df_norm[NUM_FEATURE_NAMES])\n",
        "data_train[NUM_FEATURE_NAMES] = df_norm[NUM_FEATURE_NAMES].copy()\n",
        "\n",
        "df_norm = data_test.copy()\n",
        "df_norm[NUM_FEATURE_NAMES] = scaler.fit_transform(df_norm[NUM_FEATURE_NAMES])\n",
        "data_test = df_norm.copy()"
      ]
    },
    {
      "cell_type": "code",
      "execution_count": 101,
      "metadata": {
        "id": "vmwy2cPxQaXO",
        "outputId": "a9528408-da97-4ddf-df9f-f8b1ff04eb32",
        "colab": {
          "base_uri": "https://localhost:8080/"
        }
      },
      "outputs": [
        {
          "output_type": "execute_result",
          "data": {
            "text/plain": [
              "exactly delay           category\n",
              "Years in current job    category\n",
              "Purpose                 category\n",
              "Term                    category\n",
              "dtype: object"
            ]
          },
          "metadata": {},
          "execution_count": 101
        }
      ],
      "source": [
        "for colname in CAT_FEATURES:\n",
        "    data_train[colname] = pd.Categorical(data_train[colname])\n",
        "    data_test[colname] = pd.Categorical(data_test[colname])\n",
        "    \n",
        "data_train[CAT_FEATURES].dtypes"
      ]
    },
    {
      "cell_type": "markdown",
      "metadata": {
        "id": "rS95SdZBQaXP"
      },
      "source": [
        "__6. Балансировка классов__<a class=\"anchor\" id=\"target_balancing\"></a>"
      ]
    },
    {
      "cell_type": "code",
      "execution_count": 102,
      "metadata": {
        "id": "l85ePofgQaXP"
      },
      "outputs": [],
      "source": [
        "y = data_train[TARGET_NAME]\n",
        "X = data_train.drop(columns=['ID',TARGET_NAME])\n",
        "X_train, X_test, y_train, y_test = train_test_split(X, y, test_size = 0.2, random_state = 42)"
      ]
    },
    {
      "cell_type": "code",
      "execution_count": 103,
      "metadata": {
        "id": "FAZow0NdQaXP"
      },
      "outputs": [],
      "source": [
        "df_for_balancing = pd.concat([X_train, y_train], axis=1)\n",
        "df_balanced = balance_df_by_target(df_for_balancing, TARGET_NAME)\n",
        "X_train = df_balanced.drop(columns=[TARGET_NAME])\n",
        "y_train = df_balanced[TARGET_NAME]    \n"
      ]
    },
    {
      "cell_type": "markdown",
      "metadata": {
        "id": "3QnukjAzQaXP"
      },
      "source": [
        "__7. Подбор моделей, получение бейзлана__<a class=\"anchor\" id=\"select_model\"></a>"
      ]
    },
    {
      "cell_type": "code",
      "execution_count": 104,
      "metadata": {
        "id": "1GefWoz7QaXP",
        "outputId": "6b043c00-4176-4d3a-a2ec-50fe2df368fc",
        "colab": {
          "base_uri": "https://localhost:8080/"
        }
      },
      "outputs": [
        {
          "output_type": "stream",
          "name": "stdout",
          "text": [
            "TRAIN\n",
            "\n",
            "              precision    recall  f1-score   support\n",
            "\n",
            "           0       0.76      0.85      0.80      4328\n",
            "           1       0.77      0.65      0.71      3344\n",
            "\n",
            "    accuracy                           0.76      7672\n",
            "   macro avg       0.77      0.75      0.76      7672\n",
            "weighted avg       0.77      0.76      0.76      7672\n",
            "\n",
            "TEST\n",
            "\n",
            "              precision    recall  f1-score   support\n",
            "\n",
            "           0     0.7457    0.7781    0.7616      1059\n",
            "           1     0.4051    0.3628    0.3828       441\n",
            "\n",
            "    accuracy                         0.6560      1500\n",
            "   macro avg     0.5754    0.5705    0.5722      1500\n",
            "weighted avg     0.6456    0.6560    0.6502      1500\n",
            "\n",
            "CONFUSION MATRIX\n",
            "\n",
            "col_0             0    1\n",
            "Credit Default          \n",
            "0               824  235\n",
            "1               281  160\n"
          ]
        }
      ],
      "source": [
        "#**k ближайших соседей**\n",
        "model_knn = KNeighborsClassifier()\n",
        "model_knn.fit(X_train.drop(columns=CAT_FEATURES), y_train)\n",
        "\n",
        "y_train_pred = model_knn.predict(X_train.drop(columns=CAT_FEATURES))\n",
        "y_test_pred = model_knn.predict(X_test.drop(columns=CAT_FEATURES))\n",
        "\n",
        "get_classification_report(y_train, y_train_pred, y_test, y_test_pred)"
      ]
    },
    {
      "cell_type": "code",
      "execution_count": 105,
      "metadata": {
        "id": "3nwMgbTbQaXP",
        "outputId": "d32af0b6-5d58-40d7-ae83-7f079b27442e",
        "colab": {
          "base_uri": "https://localhost:8080/"
        }
      },
      "outputs": [
        {
          "output_type": "stream",
          "name": "stdout",
          "text": [
            "TRAIN\n",
            "\n",
            "              precision    recall  f1-score   support\n",
            "\n",
            "           0       0.70      0.93      0.80      4328\n",
            "           1       0.84      0.49      0.62      3344\n",
            "\n",
            "    accuracy                           0.74      7672\n",
            "   macro avg       0.77      0.71      0.71      7672\n",
            "weighted avg       0.76      0.74      0.72      7672\n",
            "\n",
            "TEST\n",
            "\n",
            "              precision    recall  f1-score   support\n",
            "\n",
            "           0     0.7860    0.8980    0.8383      1059\n",
            "           1     0.6276    0.4127    0.4979       441\n",
            "\n",
            "    accuracy                         0.7553      1500\n",
            "   macro avg     0.7068    0.6554    0.6681      1500\n",
            "weighted avg     0.7394    0.7553    0.7382      1500\n",
            "\n",
            "CONFUSION MATRIX\n",
            "\n",
            "col_0             0    1\n",
            "Credit Default          \n",
            "0               951  108\n",
            "1               259  182\n"
          ]
        }
      ],
      "source": [
        "#Случайный лес\n",
        "clf = RandomForestClassifier(max_depth=7, n_estimators = 100, random_state=11)\n",
        "clf.fit(X_train, y_train)\n",
        "y_train_pred = clf.predict(X_train)\n",
        "y_test_pred = clf.predict(X_test)\n",
        "get_classification_report(y_train, y_train_pred, y_test, y_test_pred)"
      ]
    },
    {
      "cell_type": "code",
      "execution_count": null,
      "metadata": {
        "id": "PLm4jPh1QaXQ"
      },
      "outputs": [],
      "source": [
        ""
      ]
    },
    {
      "cell_type": "code",
      "execution_count": 106,
      "metadata": {
        "id": "nCEkcr6yQaXQ",
        "outputId": "8566006b-16ed-409f-ad5c-ca8555f1c7f1",
        "colab": {
          "base_uri": "https://localhost:8080/"
        }
      },
      "outputs": [
        {
          "output_type": "stream",
          "name": "stdout",
          "text": [
            "TRAIN\n",
            "\n",
            "              precision    recall  f1-score   support\n",
            "\n",
            "           0       0.71      0.89      0.79      4328\n",
            "           1       0.79      0.54      0.64      3344\n",
            "\n",
            "    accuracy                           0.74      7672\n",
            "   macro avg       0.75      0.71      0.72      7672\n",
            "weighted avg       0.75      0.74      0.73      7672\n",
            "\n",
            "TEST\n",
            "\n",
            "              precision    recall  f1-score   support\n",
            "\n",
            "           0     0.7888    0.8499    0.8182      1059\n",
            "           1     0.5571    0.4535    0.5000       441\n",
            "\n",
            "    accuracy                         0.7333      1500\n",
            "   macro avg     0.6729    0.6517    0.6591      1500\n",
            "weighted avg     0.7207    0.7333    0.7246      1500\n",
            "\n",
            "CONFUSION MATRIX\n",
            "\n",
            "col_0             0    1\n",
            "Credit Default          \n",
            "0               900  159\n",
            "1               241  200\n"
          ]
        }
      ],
      "source": [
        "#*XGBoost*\n",
        "model_xgb = xgb.XGBClassifier(random_state=21)\n",
        "model_xgb.fit(X_train.drop(columns=CAT_FEATURES), y_train)\n",
        "\n",
        "y_train_pred = model_xgb.predict(X_train.drop(columns=CAT_FEATURES))\n",
        "y_test_pred = model_xgb.predict(X_test.drop(columns=CAT_FEATURES))\n",
        "\n",
        "get_classification_report(y_train, y_train_pred, y_test, y_test_pred)"
      ]
    },
    {
      "cell_type": "code",
      "execution_count": 107,
      "metadata": {
        "id": "a-EggeTjQaXQ",
        "outputId": "82bf3c1e-b6e8-4198-c0fe-9f0b15f63ab5",
        "colab": {
          "base_uri": "https://localhost:8080/"
        }
      },
      "outputs": [
        {
          "output_type": "stream",
          "name": "stdout",
          "text": [
            "TRAIN\n",
            "\n",
            "              precision    recall  f1-score   support\n",
            "\n",
            "           0       0.92      0.96      0.94      4328\n",
            "           1       0.94      0.89      0.91      3344\n",
            "\n",
            "    accuracy                           0.93      7672\n",
            "   macro avg       0.93      0.92      0.93      7672\n",
            "weighted avg       0.93      0.93      0.93      7672\n",
            "\n",
            "TEST\n",
            "\n",
            "              precision    recall  f1-score   support\n",
            "\n",
            "           0     0.7850    0.8584    0.8200      1059\n",
            "           1     0.5614    0.4354    0.4904       441\n",
            "\n",
            "    accuracy                         0.7340      1500\n",
            "   macro avg     0.6732    0.6469    0.6552      1500\n",
            "weighted avg     0.7192    0.7340    0.7231      1500\n",
            "\n",
            "CONFUSION MATRIX\n",
            "\n",
            "col_0             0    1\n",
            "Credit Default          \n",
            "0               909  150\n",
            "1               249  192\n"
          ]
        }
      ],
      "source": [
        "#*LightGBM*\n",
        "model_lgbm = lgbm.LGBMClassifier(random_state=21)\n",
        "model_lgbm.fit(X_train, y_train)\n",
        "\n",
        "y_train_pred = model_lgbm.predict(X_train)\n",
        "y_test_pred = model_lgbm.predict(X_test)\n",
        "\n",
        "get_classification_report(y_train, y_train_pred, y_test, y_test_pred)"
      ]
    },
    {
      "cell_type": "code",
      "execution_count": 108,
      "metadata": {
        "id": "g5AW78hzQaXQ",
        "outputId": "dc5bb4ed-c157-4e86-a3f3-8cbc39e39375",
        "colab": {
          "base_uri": "https://localhost:8080/"
        }
      },
      "outputs": [
        {
          "output_type": "stream",
          "name": "stdout",
          "text": [
            "TRAIN\n",
            "\n",
            "              precision    recall  f1-score   support\n",
            "\n",
            "           0       0.87      0.95      0.91      4328\n",
            "           1       0.93      0.81      0.87      3344\n",
            "\n",
            "    accuracy                           0.89      7672\n",
            "   macro avg       0.90      0.88      0.89      7672\n",
            "weighted avg       0.89      0.89      0.89      7672\n",
            "\n",
            "TEST\n",
            "\n",
            "              precision    recall  f1-score   support\n",
            "\n",
            "           0     0.7792    0.8565    0.8160      1059\n",
            "           1     0.5476    0.4172    0.4736       441\n",
            "\n",
            "    accuracy                         0.7273      1500\n",
            "   macro avg     0.6634    0.6369    0.6448      1500\n",
            "weighted avg     0.7111    0.7273    0.7153      1500\n",
            "\n",
            "CONFUSION MATRIX\n",
            "\n",
            "col_0             0    1\n",
            "Credit Default          \n",
            "0               907  152\n",
            "1               257  184\n"
          ]
        }
      ],
      "source": [
        "#*CatBoost*\n",
        "model_catb = catb.CatBoostClassifier(silent=True, random_state=21)\n",
        "model_catb.fit(X_train, y_train, cat_features=CAT_FEATURES)\n",
        "\n",
        "y_train_pred = model_catb.predict(X_train)\n",
        "y_test_pred = model_catb.predict(X_test)\n",
        "\n",
        "get_classification_report(y_train, y_train_pred, y_test, y_test_pred) "
      ]
    },
    {
      "cell_type": "markdown",
      "metadata": {
        "id": "xRjKHfmWQaXR"
      },
      "source": [
        "__8. Выбор наилучшей модели, настройка гиперпараметров__<a class=\"anchor\" id=\"get_best_model\"></a>"
      ]
    },
    {
      "cell_type": "code",
      "execution_count": 109,
      "metadata": {
        "id": "rIe9hwJjQaXR",
        "outputId": "e967abb1-5124-47d4-f973-848d6cdfbe9d",
        "colab": {
          "base_uri": "https://localhost:8080/"
        }
      },
      "outputs": [
        {
          "output_type": "stream",
          "name": "stdout",
          "text": [
            "CPU times: user 10.3 s, sys: 225 ms, total: 10.5 s\n",
            "Wall time: 1min 48s\n"
          ]
        }
      ],
      "source": [
        "%%time\n",
        "params = {'n_estimators':[50, 100, 200, 500, 700],\n",
        "          'max_depth':[3, 5, 7,9,11]}\n",
        "cv=KFold(n_splits=4, random_state=21, shuffle=True)\n",
        "\n",
        "\n",
        "forest = RandomForestClassifier(max_depth=7, n_estimators = 100, random_state=42, class_weight={0:0.5, 1:1.5})\n",
        "rs = RandomizedSearchCV(forest, params, scoring='f1', cv=cv, n_jobs=-1)\n",
        "rs.fit(X_train, y_train)"
      ]
    },
    {
      "cell_type": "code",
      "execution_count": 110,
      "metadata": {
        "id": "X2fnjZOkQaXR"
      },
      "outputs": [],
      "source": [
        "param = rs.best_params_"
      ]
    },
    {
      "cell_type": "code",
      "execution_count": null,
      "metadata": {
        "id": "GWSyJreOQaXR"
      },
      "outputs": [],
      "source": [
        ""
      ]
    },
    {
      "cell_type": "markdown",
      "metadata": {
        "id": "Uzi25nNIQaXR"
      },
      "source": [
        "__9. Проверка качества, борьба с переобучением__<a class=\"anchor\" id=\"check_model\"></a>"
      ]
    },
    {
      "cell_type": "code",
      "execution_count": 111,
      "metadata": {
        "id": "Vw4QWuPtQaXR",
        "outputId": "ae1fbab8-b39c-494d-be49-d4103bed16f6",
        "colab": {
          "base_uri": "https://localhost:8080/"
        }
      },
      "outputs": [
        {
          "output_type": "stream",
          "name": "stdout",
          "text": [
            "TRAIN\n",
            "\n",
            "              precision    recall  f1-score   support\n",
            "\n",
            "           0       0.98      0.71      0.83      4328\n",
            "           1       0.73      0.99      0.84      3344\n",
            "\n",
            "    accuracy                           0.83      7672\n",
            "   macro avg       0.86      0.85      0.83      7672\n",
            "weighted avg       0.87      0.83      0.83      7672\n",
            "\n",
            "TEST\n",
            "\n",
            "              precision    recall  f1-score   support\n",
            "\n",
            "           0     0.8621    0.5902    0.7007      1059\n",
            "           1     0.4400    0.7732    0.5609       441\n",
            "\n",
            "    accuracy                         0.6440      1500\n",
            "   macro avg     0.6510    0.6817    0.6308      1500\n",
            "weighted avg     0.7380    0.6440    0.6596      1500\n",
            "\n",
            "CONFUSION MATRIX\n",
            "\n",
            "col_0             0    1\n",
            "Credit Default          \n",
            "0               625  434\n",
            "1               100  341\n"
          ]
        }
      ],
      "source": [
        "#Добавим веса классам \n",
        "clf = RandomForestClassifier(max_depth=param['max_depth'], n_estimators = param['n_estimators'], random_state=17, class_weight={0:0.5, 1:1})\n",
        "clf.fit(X_train, y_train)\n",
        "\n",
        "y_train_pred = clf.predict(X_train)\n",
        "y_test_pred = clf.predict(X_test)\n",
        "\n",
        "get_classification_report(y_train, y_train_pred, y_test, y_test_pred) "
      ]
    },
    {
      "cell_type": "markdown",
      "metadata": {
        "id": "NAcSH1sMQaXS"
      },
      "source": [
        "__Обучение финальной модели. Сохранение результатов__"
      ]
    },
    {
      "cell_type": "code",
      "execution_count": 112,
      "metadata": {
        "id": "bpUuCr70QaXS"
      },
      "outputs": [],
      "source": [
        "df_for_balancing = pd.concat([X, y], axis=1)\n",
        "df_balanced = balance_df_by_target(df_for_balancing, TARGET_NAME)\n",
        "X_train = df_balanced.drop(columns=[TARGET_NAME])\n",
        "y_train = df_balanced[TARGET_NAME]    "
      ]
    },
    {
      "cell_type": "code",
      "execution_count": 118,
      "metadata": {
        "id": "0gA2zo0UQaXS"
      },
      "outputs": [],
      "source": [
        "clf = RandomForestClassifier(max_depth=param['max_depth'], n_estimators = param['n_estimators'], random_state=17, class_weight={0:0.5, 1:1})\n",
        "clf.fit(X_train, y_train)\n",
        "y_pred = clf.predict(data_test)"
      ]
    },
    {
      "cell_type": "code",
      "execution_count": 119,
      "metadata": {
        "id": "zbqa7oaaQaXS"
      },
      "outputs": [],
      "source": [
        "result = pd.DataFrame(data_test.reset_index())\n",
        "result['Credit Default'] = y_pred"
      ]
    },
    {
      "cell_type": "code",
      "execution_count": 120,
      "metadata": {
        "id": "7vzmxJA0QaXS"
      },
      "outputs": [],
      "source": [
        "result[['index','Credit Default']].to_csv('SalnikovMV_predictions.csv', index=False)"
      ]
    },
    {
      "cell_type": "code",
      "execution_count": null,
      "metadata": {
        "id": "xQGtpfdGQaXS"
      },
      "outputs": [],
      "source": [
        ""
      ]
    }
  ],
  "metadata": {
    "kernelspec": {
      "display_name": "Python 3",
      "language": "python",
      "name": "python3"
    },
    "language_info": {
      "codemirror_mode": {
        "name": "ipython",
        "version": 3
      },
      "file_extension": ".py",
      "mimetype": "text/x-python",
      "name": "python",
      "nbconvert_exporter": "python",
      "pygments_lexer": "ipython3",
      "version": "3.7.6"
    },
    "colab": {
      "name": " SalnikovMV_solution.ipynb",
      "provenance": [],
      "collapsed_sections": [],
      "include_colab_link": true
    }
  },
  "nbformat": 4,
  "nbformat_minor": 0
}